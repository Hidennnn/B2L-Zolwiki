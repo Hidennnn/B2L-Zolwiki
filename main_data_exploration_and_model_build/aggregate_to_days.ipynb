{
 "cells": [
  {
   "cell_type": "markdown",
   "source": [
    "Due to the fact that weather can be really changed during day, it is no use to predict effectiveness of solar panels every hour. Also, there are not included aspects of the day - like position of sun or if it is day or night. So it is better to focus on full days which can show us better how effectiveness of solar panels. It is possible to score full year with forecasting data which can show us effectiveness during the year."
   ],
   "metadata": {
    "collapsed": false
   }
  },
  {
   "cell_type": "code",
   "execution_count": 27,
   "outputs": [],
   "source": [
    "import pandas as pd"
   ],
   "metadata": {
    "collapsed": false,
    "ExecuteTime": {
     "end_time": "2024-12-08T01:48:01.714804Z",
     "start_time": "2024-12-08T01:48:01.714115Z"
    }
   }
  },
  {
   "cell_type": "code",
   "execution_count": 28,
   "outputs": [
    {
     "name": "stderr",
     "output_type": "stream",
     "text": [
      "/var/folders/f_/1f21rmxs29z6pyrpb6hklc900000gn/T/ipykernel_12517/2268090965.py:1: DtypeWarning: Columns (0) have mixed types. Specify dtype option on import or set low_memory=False.\n",
      "  df = pd.read_csv('EXPORT TenMinData - Feeders.csv')\n"
     ]
    }
   ],
   "source": [
    "# This is our choice. Data for every minute has many empty rows. Hour data have aggregation based on min-max. We think that average will be better.\n",
    "df = pd.read_csv('EXPORT TenMinData - Feeders.csv')"
   ],
   "metadata": {
    "collapsed": false,
    "ExecuteTime": {
     "end_time": "2024-12-08T01:48:07.751788Z",
     "start_time": "2024-12-08T01:48:02.843232Z"
    }
   }
  },
  {
   "cell_type": "code",
   "execution_count": 3,
   "outputs": [],
   "source": [
    "# Check if this works with potential in docs.\n",
    "df_sub = df[df['Substation']=='YMCA'][['PA', 'PB', 'PC']]"
   ],
   "metadata": {
    "collapsed": false,
    "ExecuteTime": {
     "end_time": "2024-12-07T23:05:15.831075Z",
     "start_time": "2024-12-07T23:05:15.769241Z"
    }
   }
  },
  {
   "cell_type": "code",
   "execution_count": 4,
   "outputs": [
    {
     "data": {
      "text/plain": "            PA      PB      PC\n867549  23.663   7.834   9.188\n866403  23.297   7.916  11.206\n869277  23.207   8.633  10.000\n866402  22.363   9.286  10.237\n867546  21.881  11.796  14.717\n...        ...     ...     ...\n850093  -8.696  -5.854  -0.530\n851244  -8.756  -8.752   5.059\n852109  -8.825  -6.584   1.886\n852970  -8.978  -8.151   2.546\n851398  -9.123  -8.054   0.597\n\n[46726 rows x 3 columns]",
      "text/html": "<div>\n<style scoped>\n    .dataframe tbody tr th:only-of-type {\n        vertical-align: middle;\n    }\n\n    .dataframe tbody tr th {\n        vertical-align: top;\n    }\n\n    .dataframe thead th {\n        text-align: right;\n    }\n</style>\n<table border=\"1\" class=\"dataframe\">\n  <thead>\n    <tr style=\"text-align: right;\">\n      <th></th>\n      <th>PA</th>\n      <th>PB</th>\n      <th>PC</th>\n    </tr>\n  </thead>\n  <tbody>\n    <tr>\n      <th>867549</th>\n      <td>23.663</td>\n      <td>7.834</td>\n      <td>9.188</td>\n    </tr>\n    <tr>\n      <th>866403</th>\n      <td>23.297</td>\n      <td>7.916</td>\n      <td>11.206</td>\n    </tr>\n    <tr>\n      <th>869277</th>\n      <td>23.207</td>\n      <td>8.633</td>\n      <td>10.000</td>\n    </tr>\n    <tr>\n      <th>866402</th>\n      <td>22.363</td>\n      <td>9.286</td>\n      <td>10.237</td>\n    </tr>\n    <tr>\n      <th>867546</th>\n      <td>21.881</td>\n      <td>11.796</td>\n      <td>14.717</td>\n    </tr>\n    <tr>\n      <th>...</th>\n      <td>...</td>\n      <td>...</td>\n      <td>...</td>\n    </tr>\n    <tr>\n      <th>850093</th>\n      <td>-8.696</td>\n      <td>-5.854</td>\n      <td>-0.530</td>\n    </tr>\n    <tr>\n      <th>851244</th>\n      <td>-8.756</td>\n      <td>-8.752</td>\n      <td>5.059</td>\n    </tr>\n    <tr>\n      <th>852109</th>\n      <td>-8.825</td>\n      <td>-6.584</td>\n      <td>1.886</td>\n    </tr>\n    <tr>\n      <th>852970</th>\n      <td>-8.978</td>\n      <td>-8.151</td>\n      <td>2.546</td>\n    </tr>\n    <tr>\n      <th>851398</th>\n      <td>-9.123</td>\n      <td>-8.054</td>\n      <td>0.597</td>\n    </tr>\n  </tbody>\n</table>\n<p>46726 rows × 3 columns</p>\n</div>"
     },
     "execution_count": 4,
     "metadata": {},
     "output_type": "execute_result"
    }
   ],
   "source": [
    "df_sub.sort_values(by='PA', ascending=False)"
   ],
   "metadata": {
    "collapsed": false,
    "ExecuteTime": {
     "end_time": "2024-12-07T23:05:16.382975Z",
     "start_time": "2024-12-07T23:05:16.358226Z"
    }
   }
  },
  {
   "cell_type": "code",
   "execution_count": 5,
   "outputs": [
    {
     "data": {
      "text/plain": "            PA      PB      PC\n852588  12.884  16.807   9.984\n857631   8.640  16.474   7.436\n861372   7.043  16.402   6.812\n863086  13.339  15.946  10.178\n872011  16.610  15.922  12.404\n...        ...     ...     ...\n852981  -8.491  -8.613   0.156\n850250  -8.070  -8.623  -0.497\n851242  -7.674  -8.749   1.769\n851244  -8.756  -8.752   5.059\n851963  -8.544  -9.154   2.919\n\n[46726 rows x 3 columns]",
      "text/html": "<div>\n<style scoped>\n    .dataframe tbody tr th:only-of-type {\n        vertical-align: middle;\n    }\n\n    .dataframe tbody tr th {\n        vertical-align: top;\n    }\n\n    .dataframe thead th {\n        text-align: right;\n    }\n</style>\n<table border=\"1\" class=\"dataframe\">\n  <thead>\n    <tr style=\"text-align: right;\">\n      <th></th>\n      <th>PA</th>\n      <th>PB</th>\n      <th>PC</th>\n    </tr>\n  </thead>\n  <tbody>\n    <tr>\n      <th>852588</th>\n      <td>12.884</td>\n      <td>16.807</td>\n      <td>9.984</td>\n    </tr>\n    <tr>\n      <th>857631</th>\n      <td>8.640</td>\n      <td>16.474</td>\n      <td>7.436</td>\n    </tr>\n    <tr>\n      <th>861372</th>\n      <td>7.043</td>\n      <td>16.402</td>\n      <td>6.812</td>\n    </tr>\n    <tr>\n      <th>863086</th>\n      <td>13.339</td>\n      <td>15.946</td>\n      <td>10.178</td>\n    </tr>\n    <tr>\n      <th>872011</th>\n      <td>16.610</td>\n      <td>15.922</td>\n      <td>12.404</td>\n    </tr>\n    <tr>\n      <th>...</th>\n      <td>...</td>\n      <td>...</td>\n      <td>...</td>\n    </tr>\n    <tr>\n      <th>852981</th>\n      <td>-8.491</td>\n      <td>-8.613</td>\n      <td>0.156</td>\n    </tr>\n    <tr>\n      <th>850250</th>\n      <td>-8.070</td>\n      <td>-8.623</td>\n      <td>-0.497</td>\n    </tr>\n    <tr>\n      <th>851242</th>\n      <td>-7.674</td>\n      <td>-8.749</td>\n      <td>1.769</td>\n    </tr>\n    <tr>\n      <th>851244</th>\n      <td>-8.756</td>\n      <td>-8.752</td>\n      <td>5.059</td>\n    </tr>\n    <tr>\n      <th>851963</th>\n      <td>-8.544</td>\n      <td>-9.154</td>\n      <td>2.919</td>\n    </tr>\n  </tbody>\n</table>\n<p>46726 rows × 3 columns</p>\n</div>"
     },
     "execution_count": 5,
     "metadata": {},
     "output_type": "execute_result"
    }
   ],
   "source": [
    "df_sub.sort_values(by='PB', ascending=False)"
   ],
   "metadata": {
    "collapsed": false,
    "ExecuteTime": {
     "end_time": "2024-12-07T23:05:18.518935Z",
     "start_time": "2024-12-07T23:05:18.477813Z"
    }
   }
  },
  {
   "cell_type": "code",
   "execution_count": 6,
   "outputs": [
    {
     "data": {
      "text/plain": "            PA      PB      PC\n853298   2.736   7.205  21.720\n853297   0.396   4.866  20.876\n862896   1.156   1.335  20.603\n871010  11.252  10.249  20.516\n871582  12.543   8.643  20.168\n...        ...     ...     ...\n991549  -2.026  -2.320  -2.212\n996847   0.893  -1.477  -2.214\n991255  -1.791   2.848  -2.233\n991555  -2.127  -2.230  -2.237\n993833   0.127  -2.295  -2.239\n\n[46726 rows x 3 columns]",
      "text/html": "<div>\n<style scoped>\n    .dataframe tbody tr th:only-of-type {\n        vertical-align: middle;\n    }\n\n    .dataframe tbody tr th {\n        vertical-align: top;\n    }\n\n    .dataframe thead th {\n        text-align: right;\n    }\n</style>\n<table border=\"1\" class=\"dataframe\">\n  <thead>\n    <tr style=\"text-align: right;\">\n      <th></th>\n      <th>PA</th>\n      <th>PB</th>\n      <th>PC</th>\n    </tr>\n  </thead>\n  <tbody>\n    <tr>\n      <th>853298</th>\n      <td>2.736</td>\n      <td>7.205</td>\n      <td>21.720</td>\n    </tr>\n    <tr>\n      <th>853297</th>\n      <td>0.396</td>\n      <td>4.866</td>\n      <td>20.876</td>\n    </tr>\n    <tr>\n      <th>862896</th>\n      <td>1.156</td>\n      <td>1.335</td>\n      <td>20.603</td>\n    </tr>\n    <tr>\n      <th>871010</th>\n      <td>11.252</td>\n      <td>10.249</td>\n      <td>20.516</td>\n    </tr>\n    <tr>\n      <th>871582</th>\n      <td>12.543</td>\n      <td>8.643</td>\n      <td>20.168</td>\n    </tr>\n    <tr>\n      <th>...</th>\n      <td>...</td>\n      <td>...</td>\n      <td>...</td>\n    </tr>\n    <tr>\n      <th>991549</th>\n      <td>-2.026</td>\n      <td>-2.320</td>\n      <td>-2.212</td>\n    </tr>\n    <tr>\n      <th>996847</th>\n      <td>0.893</td>\n      <td>-1.477</td>\n      <td>-2.214</td>\n    </tr>\n    <tr>\n      <th>991255</th>\n      <td>-1.791</td>\n      <td>2.848</td>\n      <td>-2.233</td>\n    </tr>\n    <tr>\n      <th>991555</th>\n      <td>-2.127</td>\n      <td>-2.230</td>\n      <td>-2.237</td>\n    </tr>\n    <tr>\n      <th>993833</th>\n      <td>0.127</td>\n      <td>-2.295</td>\n      <td>-2.239</td>\n    </tr>\n  </tbody>\n</table>\n<p>46726 rows × 3 columns</p>\n</div>"
     },
     "execution_count": 6,
     "metadata": {},
     "output_type": "execute_result"
    }
   ],
   "source": [
    "df_sub.sort_values(by='PC', ascending=False)"
   ],
   "metadata": {
    "collapsed": false,
    "ExecuteTime": {
     "end_time": "2024-12-07T23:05:22.285168Z",
     "start_time": "2024-12-07T23:05:22.243486Z"
    }
   }
  },
  {
   "cell_type": "code",
   "execution_count": 7,
   "outputs": [],
   "source": [
    "import matplotlib.pyplot as plt"
   ],
   "metadata": {
    "collapsed": false,
    "ExecuteTime": {
     "end_time": "2024-12-07T23:05:24.934964Z",
     "start_time": "2024-12-07T23:05:24.267111Z"
    }
   }
  },
  {
   "cell_type": "code",
   "execution_count": 8,
   "outputs": [
    {
     "data": {
      "text/plain": "<Figure size 640x480 with 1 Axes>",
      "image/png": "[encoded data removed]"
     },
     "metadata": {},
     "output_type": "display_data"
    }
   ],
   "source": [
    "plt.hist(df_sub['PA'])\n",
    "plt.show()"
   ],
   "metadata": {
    "collapsed": false,
    "ExecuteTime": {
     "end_time": "2024-12-07T23:05:25.466817Z",
     "start_time": "2024-12-07T23:05:25.358851Z"
    }
   }
  },
  {
   "cell_type": "code",
   "execution_count": 9,
   "outputs": [
    {
     "data": {
      "text/plain": "23.663"
     },
     "execution_count": 9,
     "metadata": {},
     "output_type": "execute_result"
    }
   ],
   "source": [
    "df_sub['PA'].max()"
   ],
   "metadata": {
    "collapsed": false,
    "ExecuteTime": {
     "end_time": "2024-12-07T23:05:27.654382Z",
     "start_time": "2024-12-07T23:05:27.644316Z"
    }
   }
  },
  {
   "cell_type": "code",
   "execution_count": 10,
   "outputs": [],
   "source": [
    "df_test = df_sub[['PA', 'PB', 'PC']].max(axis=1)"
   ],
   "metadata": {
    "collapsed": false,
    "ExecuteTime": {
     "end_time": "2024-12-07T23:05:36.294463Z",
     "start_time": "2024-12-07T23:05:36.289506Z"
    }
   }
  },
  {
   "cell_type": "code",
   "execution_count": 12,
   "outputs": [
    {
     "data": {
      "text/plain": "23.663"
     },
     "execution_count": 12,
     "metadata": {},
     "output_type": "execute_result"
    }
   ],
   "source": [
    "df_test.max()"
   ],
   "metadata": {
    "collapsed": false,
    "ExecuteTime": {
     "end_time": "2024-12-07T23:05:42.881715Z",
     "start_time": "2024-12-07T23:05:42.875072Z"
    }
   }
  },
  {
   "cell_type": "code",
   "execution_count": 13,
   "outputs": [],
   "source": [
    "df['P'] = df[['PA', 'PB', 'PC']].max(axis=1) # We use the fase with highest power output."
   ],
   "metadata": {
    "collapsed": false,
    "ExecuteTime": {
     "end_time": "2024-12-07T23:05:50.247074Z",
     "start_time": "2024-12-07T23:05:50.232096Z"
    }
   }
  },
  {
   "cell_type": "code",
   "execution_count": 16,
   "outputs": [],
   "source": [
    "df = df[['Substation', 't_date', 'P']]"
   ],
   "metadata": {
    "collapsed": false,
    "ExecuteTime": {
     "end_time": "2024-12-07T23:06:36.226325Z",
     "start_time": "2024-12-07T23:06:36.069870Z"
    }
   }
  },
  {
   "cell_type": "code",
   "execution_count": 17,
   "outputs": [
    {
     "data": {
      "text/plain": "array(['Warninglid Lane', 'Chapel Lane', 'Southcroft', 'Bircham Newton',\n       'Rampling Court', 'Forest Road', 'Alverston Close', 'Carters Mead',\n       'Maple Drive East', 'Suffolk Road', 'Old Mill', 'Bankfield Way',\n       'Fairview Road', 'Elm Crescent', 'Bancroft Close', 'Rookery Farm',\n       'Priesthawes', 'Upper Staplefield Common', 'East Hill Costessey',\n       'YMCA'], dtype=object)"
     },
     "execution_count": 17,
     "metadata": {},
     "output_type": "execute_result"
    }
   ],
   "source": [
    "df['Substation'].unique()"
   ],
   "metadata": {
    "collapsed": false,
    "ExecuteTime": {
     "end_time": "2024-12-07T23:06:37.409906Z",
     "start_time": "2024-12-07T23:06:37.388912Z"
    }
   }
  },
  {
   "cell_type": "code",
   "execution_count": 18,
   "outputs": [],
   "source": [
    "# Seems proper to max potential\n",
    "df.loc[df['Substation'] == 'Elm Crescent', 'P'] = df[df['Substation'] == 'Elm Crescent']['P'] / 92\n",
    "df.loc[df['Substation'] == 'YMCA', 'P'] = df[df['Substation'] == 'YMCA']['P'] / 25\n",
    "df.loc[df['Substation'] == 'Forest Road', 'P'] = df[df['Substation'] == 'Forest Road']['P'] / 85\n",
    "df.loc[df['Substation'] == 'Maple Drive East', 'P'] = df[df['Substation'] == 'Maple Drive East']['P'] / 63"
   ],
   "metadata": {
    "collapsed": false,
    "ExecuteTime": {
     "end_time": "2024-12-07T23:06:50.017623Z",
     "start_time": "2024-12-07T23:06:49.671355Z"
    }
   }
  },
  {
   "cell_type": "code",
   "execution_count": 20,
   "outputs": [],
   "source": [
    "df_agg = df.groupby(['Substation', 't_date']).agg({'P': 'mean'}) # mean power in full day."
   ],
   "metadata": {
    "collapsed": false,
    "ExecuteTime": {
     "end_time": "2024-12-07T23:07:13.477459Z",
     "start_time": "2024-12-07T23:07:13.338660Z"
    }
   }
  },
  {
   "cell_type": "code",
   "execution_count": 21,
   "outputs": [],
   "source": [
    "df_agg = df_agg.reset_index()"
   ],
   "metadata": {
    "collapsed": false,
    "ExecuteTime": {
     "end_time": "2024-12-07T23:07:13.531991Z",
     "start_time": "2024-12-07T23:07:13.524624Z"
    }
   }
  },
  {
   "cell_type": "code",
   "execution_count": 22,
   "outputs": [
    {
     "data": {
      "text/plain": "                                   P\nSubstation                          \nAlverston Close            18.419891\nBancroft Close             13.884964\nBankfield Way              10.306156\nBircham Newton              9.275919\nCarters Mead                5.935271\nChapel Lane                 8.804536\nEast Hill Costessey         7.294175\nElm Crescent                0.029600\nFairview Road               5.293175\nForest Road                 0.043142\nMaple Drive East            0.209656\nOld Mill                    2.523684\nPriesthawes               101.360925\nRampling Court             12.794307\nRookery Farm               -1.398152\nSouthcroft                  9.011483\nSuffolk Road               12.931153\nUpper Staplefield Common    7.603359\nWarninglid Lane             0.039648\nYMCA                        0.178677",
      "text/html": "<div>\n<style scoped>\n    .dataframe tbody tr th:only-of-type {\n        vertical-align: middle;\n    }\n\n    .dataframe tbody tr th {\n        vertical-align: top;\n    }\n\n    .dataframe thead th {\n        text-align: right;\n    }\n</style>\n<table border=\"1\" class=\"dataframe\">\n  <thead>\n    <tr style=\"text-align: right;\">\n      <th></th>\n      <th>P</th>\n    </tr>\n    <tr>\n      <th>Substation</th>\n      <th></th>\n    </tr>\n  </thead>\n  <tbody>\n    <tr>\n      <th>Alverston Close</th>\n      <td>18.419891</td>\n    </tr>\n    <tr>\n      <th>Bancroft Close</th>\n      <td>13.884964</td>\n    </tr>\n    <tr>\n      <th>Bankfield Way</th>\n      <td>10.306156</td>\n    </tr>\n    <tr>\n      <th>Bircham Newton</th>\n      <td>9.275919</td>\n    </tr>\n    <tr>\n      <th>Carters Mead</th>\n      <td>5.935271</td>\n    </tr>\n    <tr>\n      <th>Chapel Lane</th>\n      <td>8.804536</td>\n    </tr>\n    <tr>\n      <th>East Hill Costessey</th>\n      <td>7.294175</td>\n    </tr>\n    <tr>\n      <th>Elm Crescent</th>\n      <td>0.029600</td>\n    </tr>\n    <tr>\n      <th>Fairview Road</th>\n      <td>5.293175</td>\n    </tr>\n    <tr>\n      <th>Forest Road</th>\n      <td>0.043142</td>\n    </tr>\n    <tr>\n      <th>Maple Drive East</th>\n      <td>0.209656</td>\n    </tr>\n    <tr>\n      <th>Old Mill</th>\n      <td>2.523684</td>\n    </tr>\n    <tr>\n      <th>Priesthawes</th>\n      <td>101.360925</td>\n    </tr>\n    <tr>\n      <th>Rampling Court</th>\n      <td>12.794307</td>\n    </tr>\n    <tr>\n      <th>Rookery Farm</th>\n      <td>-1.398152</td>\n    </tr>\n    <tr>\n      <th>Southcroft</th>\n      <td>9.011483</td>\n    </tr>\n    <tr>\n      <th>Suffolk Road</th>\n      <td>12.931153</td>\n    </tr>\n    <tr>\n      <th>Upper Staplefield Common</th>\n      <td>7.603359</td>\n    </tr>\n    <tr>\n      <th>Warninglid Lane</th>\n      <td>0.039648</td>\n    </tr>\n    <tr>\n      <th>YMCA</th>\n      <td>0.178677</td>\n    </tr>\n  </tbody>\n</table>\n</div>"
     },
     "execution_count": 22,
     "metadata": {},
     "output_type": "execute_result"
    }
   ],
   "source": [
    "df_agg.groupby('Substation').agg({'P': 'mean'})"
   ],
   "metadata": {
    "collapsed": false,
    "ExecuteTime": {
     "end_time": "2024-12-07T23:07:13.712671Z",
     "start_time": "2024-12-07T23:07:13.702609Z"
    }
   }
  },
  {
   "cell_type": "code",
   "execution_count": 23,
   "outputs": [],
   "source": [
    "# Drop Bircham Newton Substation due to emptiness of weather data.\n",
    "df_agg = df_agg[df_agg['Substation']!='Bircham Newton']"
   ],
   "metadata": {
    "collapsed": false,
    "ExecuteTime": {
     "end_time": "2024-12-07T23:07:13.864236Z",
     "start_time": "2024-12-07T23:07:13.857498Z"
    }
   }
  },
  {
   "cell_type": "code",
   "execution_count": 24,
   "outputs": [
    {
     "data": {
      "text/plain": "                                     P\nSubstation                            \nAlverston Close            3002.442222\nBancroft Close             2263.249146\nBankfield Way              1679.903410\nCarters Mead                955.578650\nChapel Lane                1294.266836\nEast Hill Costessey        1188.950460\nElm Crescent                  4.765619\nFairview Road               862.787585\nForest Road                   6.945921\nMaple Drive East             34.173971\nOld Mill                    153.944733\nPriesthawes               15812.304369\nRampling Court             2085.472041\nRookery Farm               -227.898721\nSouthcroft                 1468.871677\nSuffolk Road               2107.777981\nUpper Staplefield Common   1239.347481\nWarninglid Lane               2.894322\nYMCA                         29.124402",
      "text/html": "<div>\n<style scoped>\n    .dataframe tbody tr th:only-of-type {\n        vertical-align: middle;\n    }\n\n    .dataframe tbody tr th {\n        vertical-align: top;\n    }\n\n    .dataframe thead th {\n        text-align: right;\n    }\n</style>\n<table border=\"1\" class=\"dataframe\">\n  <thead>\n    <tr style=\"text-align: right;\">\n      <th></th>\n      <th>P</th>\n    </tr>\n    <tr>\n      <th>Substation</th>\n      <th></th>\n    </tr>\n  </thead>\n  <tbody>\n    <tr>\n      <th>Alverston Close</th>\n      <td>3002.442222</td>\n    </tr>\n    <tr>\n      <th>Bancroft Close</th>\n      <td>2263.249146</td>\n    </tr>\n    <tr>\n      <th>Bankfield Way</th>\n      <td>1679.903410</td>\n    </tr>\n    <tr>\n      <th>Carters Mead</th>\n      <td>955.578650</td>\n    </tr>\n    <tr>\n      <th>Chapel Lane</th>\n      <td>1294.266836</td>\n    </tr>\n    <tr>\n      <th>East Hill Costessey</th>\n      <td>1188.950460</td>\n    </tr>\n    <tr>\n      <th>Elm Crescent</th>\n      <td>4.765619</td>\n    </tr>\n    <tr>\n      <th>Fairview Road</th>\n      <td>862.787585</td>\n    </tr>\n    <tr>\n      <th>Forest Road</th>\n      <td>6.945921</td>\n    </tr>\n    <tr>\n      <th>Maple Drive East</th>\n      <td>34.173971</td>\n    </tr>\n    <tr>\n      <th>Old Mill</th>\n      <td>153.944733</td>\n    </tr>\n    <tr>\n      <th>Priesthawes</th>\n      <td>15812.304369</td>\n    </tr>\n    <tr>\n      <th>Rampling Court</th>\n      <td>2085.472041</td>\n    </tr>\n    <tr>\n      <th>Rookery Farm</th>\n      <td>-227.898721</td>\n    </tr>\n    <tr>\n      <th>Southcroft</th>\n      <td>1468.871677</td>\n    </tr>\n    <tr>\n      <th>Suffolk Road</th>\n      <td>2107.777981</td>\n    </tr>\n    <tr>\n      <th>Upper Staplefield Common</th>\n      <td>1239.347481</td>\n    </tr>\n    <tr>\n      <th>Warninglid Lane</th>\n      <td>2.894322</td>\n    </tr>\n    <tr>\n      <th>YMCA</th>\n      <td>29.124402</td>\n    </tr>\n  </tbody>\n</table>\n</div>"
     },
     "execution_count": 24,
     "metadata": {},
     "output_type": "execute_result"
    }
   ],
   "source": [
    "df_agg.groupby('Substation').agg({'P': 'sum'})"
   ],
   "metadata": {
    "collapsed": false,
    "ExecuteTime": {
     "end_time": "2024-12-07T23:07:14.224149Z",
     "start_time": "2024-12-07T23:07:14.213181Z"
    }
   }
  },
  {
   "cell_type": "code",
   "execution_count": 25,
   "outputs": [],
   "source": [
    "df_agg.to_csv('Feeders - day_agg.csv') # save to csv"
   ],
   "metadata": {
    "collapsed": false,
    "ExecuteTime": {
     "end_time": "2024-12-07T23:07:14.400166Z",
     "start_time": "2024-12-07T23:07:14.385082Z"
    }
   }
  },
  {
   "cell_type": "code",
   "execution_count": 26,
   "outputs": [
    {
     "data": {
      "text/plain": "Substation          YMCA\nt_date        2014-11-19\nP               0.247817\ndtype: object"
     },
     "execution_count": 26,
     "metadata": {},
     "output_type": "execute_result"
    }
   ],
   "source": [
    "# average effectiveness seems pretty low - but nighttime is included and also UK is quite cloudy.\n",
    "df_agg[df_agg['Substation'] == 'YMCA'].max()"
   ],
   "metadata": {
    "collapsed": false,
    "ExecuteTime": {
     "end_time": "2024-12-07T23:07:14.824338Z",
     "start_time": "2024-12-07T23:07:14.818235Z"
    }
   }
  },
  {
   "cell_type": "code",
   "execution_count": null,
   "outputs": [],
   "source": [],
   "metadata": {
    "collapsed": false
   }
  }
 ],
 "metadata": {
  "kernelspec": {
   "display_name": "Python 3",
   "language": "python",
   "name": "python3"
  },
  "language_info": {
   "codemirror_mode": {
    "name": "ipython",
    "version": 2
   },
   "file_extension": ".py",
   "mimetype": "text/x-python",
   "name": "python",
   "nbconvert_exporter": "python",
   "pygments_lexer": "ipython2",
   "version": "2.7.6"
  }
 },
 "nbformat": 4,
 "nbformat_minor": 0
}
