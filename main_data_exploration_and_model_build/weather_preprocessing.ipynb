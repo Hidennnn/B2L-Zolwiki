{
 "cells": [
  {
   "cell_type": "code",
   "execution_count": 136,
   "metadata": {
    "collapsed": true,
    "ExecuteTime": {
     "end_time": "2024-12-07T21:07:05.913039Z",
     "start_time": "2024-12-07T21:07:05.903002Z"
    }
   },
   "outputs": [],
   "source": [
    "import pandas as pd"
   ]
  },
  {
   "cell_type": "code",
   "execution_count": 138,
   "outputs": [],
   "source": [
    "weather = pd.read_excel('Weather Data 2014-11-30.xlsx', sheet_name='Weather Data')"
   ],
   "metadata": {
    "collapsed": false,
    "ExecuteTime": {
     "end_time": "2024-12-07T21:07:28.859751Z",
     "start_time": "2024-12-07T21:07:06.632930Z"
    }
   }
  },
  {
   "cell_type": "code",
   "execution_count": 60,
   "outputs": [],
   "source": [
    "# we only need to have Site and Date\n",
    "weather = weather.drop(['Month', 'Time', 'Hour'], axis=1)"
   ],
   "metadata": {
    "collapsed": false,
    "ExecuteTime": {
     "end_time": "2024-12-07T20:31:52.129562Z",
     "start_time": "2024-12-07T20:31:52.112252Z"
    }
   }
  },
  {
   "cell_type": "code",
   "execution_count": 61,
   "outputs": [
    {
     "data": {
      "text/plain": "                Site       Date TempOut HiTemp LowTemp OutHum DewPt  \\\n0               YMCA 2014-01-07    10.6   10.6    10.4     84     8   \n1               YMCA 2014-01-07    10.7   10.8    10.6     83   7.9   \n2               YMCA 2014-01-07    10.7   10.8    10.7     81   7.6   \n3               YMCA 2014-01-07    10.4   10.7    10.3     82   7.4   \n4               YMCA 2014-01-07    10.3   10.4    10.3     84   7.7   \n...              ...        ...     ...    ...     ...    ...   ...   \n69475  Easthill Road 2014-08-05     ---    ---     ---    ---   ---   \n69476  Easthill Road 2014-08-05     ---    ---     ---    ---   ---   \n69477  Easthill Road 2014-08-05     ---    ---     ---    ---   ---   \n69478  Easthill Road 2014-08-05     ---    ---     ---    ---   ---   \n69479  Easthill Road 2014-08-05     ---    ---     ---    ---   ---   \n\n       WindSpeed WindDir  WindRun  ...  InHum InDew InHeat InEMC InAirDensity  \\\n0              5     WNW      2.5  ...     50   6.8   16.3  9.39       0.0739   \n1              6     WNW      3.0  ...     50   6.8   16.2  9.39       0.0740   \n2              6       W      3.0  ...     50   6.6   16.1  9.39       0.0740   \n3              5      NW      2.5  ...     50   6.6   16.1  9.39       0.0741   \n4              5     WNW      2.5  ...     50   6.3   15.8  9.40       0.0742   \n...          ...     ...      ...  ...    ...   ...    ...   ...          ...   \n69475          0     ---      0.0  ...     31   9.9   27.8  6.15       0.0720   \n69476          0     ---      0.0  ...     32   9.8   27.1  6.30       0.0722   \n69477          0     ---      0.0  ...     33   9.8   26.6  6.49       0.0723   \n69478          0     ---      0.0  ...     33   9.5   26.2  6.51       0.0724   \n69479          0     ---      0.0  ...     34   9.6   25.9  6.64       0.0725   \n\n         ET  WindSamp  WindTx  ISSRecept ArcInt  \n0      0.00       385       1       56.3     30  \n1      0.03       702       1      100.0     30  \n2      0.00       703       1      100.0     30  \n3      0.03       702       1      100.0     30  \n4      0.00       703       1      100.0     30  \n...     ...       ...     ...        ...    ...  \n69475  0.00         0       1        0.0     30  \n69476  0.00         0       1        0.0     30  \n69477  0.00         0       1        0.0     30  \n69478  0.00         0       2        0.0     30  \n69479  0.00         0       2        0.0     30  \n\n[69480 rows x 35 columns]",
      "text/html": "<div>\n<style scoped>\n    .dataframe tbody tr th:only-of-type {\n        vertical-align: middle;\n    }\n\n    .dataframe tbody tr th {\n        vertical-align: top;\n    }\n\n    .dataframe thead th {\n        text-align: right;\n    }\n</style>\n<table border=\"1\" class=\"dataframe\">\n  <thead>\n    <tr style=\"text-align: right;\">\n      <th></th>\n      <th>Site</th>\n      <th>Date</th>\n      <th>TempOut</th>\n      <th>HiTemp</th>\n      <th>LowTemp</th>\n      <th>OutHum</th>\n      <th>DewPt</th>\n      <th>WindSpeed</th>\n      <th>WindDir</th>\n      <th>WindRun</th>\n      <th>...</th>\n      <th>InHum</th>\n      <th>InDew</th>\n      <th>InHeat</th>\n      <th>InEMC</th>\n      <th>InAirDensity</th>\n      <th>ET</th>\n      <th>WindSamp</th>\n      <th>WindTx</th>\n      <th>ISSRecept</th>\n      <th>ArcInt</th>\n    </tr>\n  </thead>\n  <tbody>\n    <tr>\n      <th>0</th>\n      <td>YMCA</td>\n      <td>2014-01-07</td>\n      <td>10.6</td>\n      <td>10.6</td>\n      <td>10.4</td>\n      <td>84</td>\n      <td>8</td>\n      <td>5</td>\n      <td>WNW</td>\n      <td>2.5</td>\n      <td>...</td>\n      <td>50</td>\n      <td>6.8</td>\n      <td>16.3</td>\n      <td>9.39</td>\n      <td>0.0739</td>\n      <td>0.00</td>\n      <td>385</td>\n      <td>1</td>\n      <td>56.3</td>\n      <td>30</td>\n    </tr>\n    <tr>\n      <th>1</th>\n      <td>YMCA</td>\n      <td>2014-01-07</td>\n      <td>10.7</td>\n      <td>10.8</td>\n      <td>10.6</td>\n      <td>83</td>\n      <td>7.9</td>\n      <td>6</td>\n      <td>WNW</td>\n      <td>3.0</td>\n      <td>...</td>\n      <td>50</td>\n      <td>6.8</td>\n      <td>16.2</td>\n      <td>9.39</td>\n      <td>0.0740</td>\n      <td>0.03</td>\n      <td>702</td>\n      <td>1</td>\n      <td>100.0</td>\n      <td>30</td>\n    </tr>\n    <tr>\n      <th>2</th>\n      <td>YMCA</td>\n      <td>2014-01-07</td>\n      <td>10.7</td>\n      <td>10.8</td>\n      <td>10.7</td>\n      <td>81</td>\n      <td>7.6</td>\n      <td>6</td>\n      <td>W</td>\n      <td>3.0</td>\n      <td>...</td>\n      <td>50</td>\n      <td>6.6</td>\n      <td>16.1</td>\n      <td>9.39</td>\n      <td>0.0740</td>\n      <td>0.00</td>\n      <td>703</td>\n      <td>1</td>\n      <td>100.0</td>\n      <td>30</td>\n    </tr>\n    <tr>\n      <th>3</th>\n      <td>YMCA</td>\n      <td>2014-01-07</td>\n      <td>10.4</td>\n      <td>10.7</td>\n      <td>10.3</td>\n      <td>82</td>\n      <td>7.4</td>\n      <td>5</td>\n      <td>NW</td>\n      <td>2.5</td>\n      <td>...</td>\n      <td>50</td>\n      <td>6.6</td>\n      <td>16.1</td>\n      <td>9.39</td>\n      <td>0.0741</td>\n      <td>0.03</td>\n      <td>702</td>\n      <td>1</td>\n      <td>100.0</td>\n      <td>30</td>\n    </tr>\n    <tr>\n      <th>4</th>\n      <td>YMCA</td>\n      <td>2014-01-07</td>\n      <td>10.3</td>\n      <td>10.4</td>\n      <td>10.3</td>\n      <td>84</td>\n      <td>7.7</td>\n      <td>5</td>\n      <td>WNW</td>\n      <td>2.5</td>\n      <td>...</td>\n      <td>50</td>\n      <td>6.3</td>\n      <td>15.8</td>\n      <td>9.40</td>\n      <td>0.0742</td>\n      <td>0.00</td>\n      <td>703</td>\n      <td>1</td>\n      <td>100.0</td>\n      <td>30</td>\n    </tr>\n    <tr>\n      <th>...</th>\n      <td>...</td>\n      <td>...</td>\n      <td>...</td>\n      <td>...</td>\n      <td>...</td>\n      <td>...</td>\n      <td>...</td>\n      <td>...</td>\n      <td>...</td>\n      <td>...</td>\n      <td>...</td>\n      <td>...</td>\n      <td>...</td>\n      <td>...</td>\n      <td>...</td>\n      <td>...</td>\n      <td>...</td>\n      <td>...</td>\n      <td>...</td>\n      <td>...</td>\n      <td>...</td>\n    </tr>\n    <tr>\n      <th>69475</th>\n      <td>Easthill Road</td>\n      <td>2014-08-05</td>\n      <td>---</td>\n      <td>---</td>\n      <td>---</td>\n      <td>---</td>\n      <td>---</td>\n      <td>0</td>\n      <td>---</td>\n      <td>0.0</td>\n      <td>...</td>\n      <td>31</td>\n      <td>9.9</td>\n      <td>27.8</td>\n      <td>6.15</td>\n      <td>0.0720</td>\n      <td>0.00</td>\n      <td>0</td>\n      <td>1</td>\n      <td>0.0</td>\n      <td>30</td>\n    </tr>\n    <tr>\n      <th>69476</th>\n      <td>Easthill Road</td>\n      <td>2014-08-05</td>\n      <td>---</td>\n      <td>---</td>\n      <td>---</td>\n      <td>---</td>\n      <td>---</td>\n      <td>0</td>\n      <td>---</td>\n      <td>0.0</td>\n      <td>...</td>\n      <td>32</td>\n      <td>9.8</td>\n      <td>27.1</td>\n      <td>6.30</td>\n      <td>0.0722</td>\n      <td>0.00</td>\n      <td>0</td>\n      <td>1</td>\n      <td>0.0</td>\n      <td>30</td>\n    </tr>\n    <tr>\n      <th>69477</th>\n      <td>Easthill Road</td>\n      <td>2014-08-05</td>\n      <td>---</td>\n      <td>---</td>\n      <td>---</td>\n      <td>---</td>\n      <td>---</td>\n      <td>0</td>\n      <td>---</td>\n      <td>0.0</td>\n      <td>...</td>\n      <td>33</td>\n      <td>9.8</td>\n      <td>26.6</td>\n      <td>6.49</td>\n      <td>0.0723</td>\n      <td>0.00</td>\n      <td>0</td>\n      <td>1</td>\n      <td>0.0</td>\n      <td>30</td>\n    </tr>\n    <tr>\n      <th>69478</th>\n      <td>Easthill Road</td>\n      <td>2014-08-05</td>\n      <td>---</td>\n      <td>---</td>\n      <td>---</td>\n      <td>---</td>\n      <td>---</td>\n      <td>0</td>\n      <td>---</td>\n      <td>0.0</td>\n      <td>...</td>\n      <td>33</td>\n      <td>9.5</td>\n      <td>26.2</td>\n      <td>6.51</td>\n      <td>0.0724</td>\n      <td>0.00</td>\n      <td>0</td>\n      <td>2</td>\n      <td>0.0</td>\n      <td>30</td>\n    </tr>\n    <tr>\n      <th>69479</th>\n      <td>Easthill Road</td>\n      <td>2014-08-05</td>\n      <td>---</td>\n      <td>---</td>\n      <td>---</td>\n      <td>---</td>\n      <td>---</td>\n      <td>0</td>\n      <td>---</td>\n      <td>0.0</td>\n      <td>...</td>\n      <td>34</td>\n      <td>9.6</td>\n      <td>25.9</td>\n      <td>6.64</td>\n      <td>0.0725</td>\n      <td>0.00</td>\n      <td>0</td>\n      <td>2</td>\n      <td>0.0</td>\n      <td>30</td>\n    </tr>\n  </tbody>\n</table>\n<p>69480 rows × 35 columns</p>\n</div>"
     },
     "execution_count": 61,
     "metadata": {},
     "output_type": "execute_result"
    }
   ],
   "source": [
    "weather"
   ],
   "metadata": {
    "collapsed": false,
    "ExecuteTime": {
     "end_time": "2024-12-07T20:31:52.168918Z",
     "start_time": "2024-12-07T20:31:52.130198Z"
    }
   }
  },
  {
   "cell_type": "code",
   "execution_count": 62,
   "outputs": [
    {
     "data": {
      "text/plain": "array(['---'], dtype=object)"
     },
     "execution_count": 62,
     "metadata": {},
     "output_type": "execute_result"
    }
   ],
   "source": [
    "# useless column\n",
    "weather['THSWIndex'].unique()"
   ],
   "metadata": {
    "collapsed": false,
    "ExecuteTime": {
     "end_time": "2024-12-07T20:31:52.174572Z",
     "start_time": "2024-12-07T20:31:52.170487Z"
    }
   }
  },
  {
   "cell_type": "code",
   "execution_count": 63,
   "outputs": [],
   "source": [
    "weather = weather.drop('THSWIndex', axis=1)"
   ],
   "metadata": {
    "collapsed": false,
    "ExecuteTime": {
     "end_time": "2024-12-07T20:31:52.186369Z",
     "start_time": "2024-12-07T20:31:52.175276Z"
    }
   }
  },
  {
   "cell_type": "code",
   "execution_count": 64,
   "outputs": [],
   "source": [
    "from sklearn.preprocessing import LabelEncoder"
   ],
   "metadata": {
    "collapsed": false,
    "ExecuteTime": {
     "end_time": "2024-12-07T20:31:52.203503Z",
     "start_time": "2024-12-07T20:31:52.186913Z"
    }
   }
  },
  {
   "cell_type": "code",
   "execution_count": 65,
   "outputs": [
    {
     "data": {
      "text/plain": "array(['WNW', 'W', 'NW', 'WSW', 'SW', 'N', 'NNE', 'NNW', '---', 'NE',\n       'SSE', 'SSW', 'S', 'SE', 'E', 'ENE', 'ESE'], dtype=object)"
     },
     "execution_count": 65,
     "metadata": {},
     "output_type": "execute_result"
    }
   ],
   "source": [
    "weather['WindDir'].unique() # change to number"
   ],
   "metadata": {
    "collapsed": false,
    "ExecuteTime": {
     "end_time": "2024-12-07T20:31:52.204240Z",
     "start_time": "2024-12-07T20:31:52.192928Z"
    }
   }
  },
  {
   "cell_type": "code",
   "execution_count": 66,
   "outputs": [
    {
     "data": {
      "text/plain": "array(['W', 'WNW', 'WSW', 'NW', 'NNW', 'N', 'NNE', 'SSW', 'SW', 'NE', 'E',\n       '---', 'ENE', 'S', 'SSE', 'ESE', 'SE'], dtype=object)"
     },
     "execution_count": 66,
     "metadata": {},
     "output_type": "execute_result"
    }
   ],
   "source": [
    "weather['HiDir'].unique() # change to number"
   ],
   "metadata": {
    "collapsed": false,
    "ExecuteTime": {
     "end_time": "2024-12-07T20:31:52.277978Z",
     "start_time": "2024-12-07T20:31:52.200747Z"
    }
   }
  },
  {
   "cell_type": "code",
   "execution_count": 67,
   "outputs": [
    {
     "data": {
      "text/plain": "LabelEncoder()",
      "text/html": "<style>#sk-container-id-2 {color: black;}#sk-container-id-2 pre{padding: 0;}#sk-container-id-2 div.sk-toggleable {background-color: white;}#sk-container-id-2 label.sk-toggleable__label {cursor: pointer;display: block;width: 100%;margin-bottom: 0;padding: 0.3em;box-sizing: border-box;text-align: center;}#sk-container-id-2 label.sk-toggleable__label-arrow:before {content: \"▸\";float: left;margin-right: 0.25em;color: #696969;}#sk-container-id-2 label.sk-toggleable__label-arrow:hover:before {color: black;}#sk-container-id-2 div.sk-estimator:hover label.sk-toggleable__label-arrow:before {color: black;}#sk-container-id-2 div.sk-toggleable__content {max-height: 0;max-width: 0;overflow: hidden;text-align: left;background-color: #f0f8ff;}#sk-container-id-2 div.sk-toggleable__content pre {margin: 0.2em;color: black;border-radius: 0.25em;background-color: #f0f8ff;}#sk-container-id-2 input.sk-toggleable__control:checked~div.sk-toggleable__content {max-height: 200px;max-width: 100%;overflow: auto;}#sk-container-id-2 input.sk-toggleable__control:checked~label.sk-toggleable__label-arrow:before {content: \"▾\";}#sk-container-id-2 div.sk-estimator input.sk-toggleable__control:checked~label.sk-toggleable__label {background-color: #d4ebff;}#sk-container-id-2 div.sk-label input.sk-toggleable__control:checked~label.sk-toggleable__label {background-color: #d4ebff;}#sk-container-id-2 input.sk-hidden--visually {border: 0;clip: rect(1px 1px 1px 1px);clip: rect(1px, 1px, 1px, 1px);height: 1px;margin: -1px;overflow: hidden;padding: 0;position: absolute;width: 1px;}#sk-container-id-2 div.sk-estimator {font-family: monospace;background-color: #f0f8ff;border: 1px dotted black;border-radius: 0.25em;box-sizing: border-box;margin-bottom: 0.5em;}#sk-container-id-2 div.sk-estimator:hover {background-color: #d4ebff;}#sk-container-id-2 div.sk-parallel-item::after {content: \"\";width: 100%;border-bottom: 1px solid gray;flex-grow: 1;}#sk-container-id-2 div.sk-label:hover label.sk-toggleable__label {background-color: #d4ebff;}#sk-container-id-2 div.sk-serial::before {content: \"\";position: absolute;border-left: 1px solid gray;box-sizing: border-box;top: 0;bottom: 0;left: 50%;z-index: 0;}#sk-container-id-2 div.sk-serial {display: flex;flex-direction: column;align-items: center;background-color: white;padding-right: 0.2em;padding-left: 0.2em;position: relative;}#sk-container-id-2 div.sk-item {position: relative;z-index: 1;}#sk-container-id-2 div.sk-parallel {display: flex;align-items: stretch;justify-content: center;background-color: white;position: relative;}#sk-container-id-2 div.sk-item::before, #sk-container-id-2 div.sk-parallel-item::before {content: \"\";position: absolute;border-left: 1px solid gray;box-sizing: border-box;top: 0;bottom: 0;left: 50%;z-index: -1;}#sk-container-id-2 div.sk-parallel-item {display: flex;flex-direction: column;z-index: 1;position: relative;background-color: white;}#sk-container-id-2 div.sk-parallel-item:first-child::after {align-self: flex-end;width: 50%;}#sk-container-id-2 div.sk-parallel-item:last-child::after {align-self: flex-start;width: 50%;}#sk-container-id-2 div.sk-parallel-item:only-child::after {width: 0;}#sk-container-id-2 div.sk-dashed-wrapped {border: 1px dashed gray;margin: 0 0.4em 0.5em 0.4em;box-sizing: border-box;padding-bottom: 0.4em;background-color: white;}#sk-container-id-2 div.sk-label label {font-family: monospace;font-weight: bold;display: inline-block;line-height: 1.2em;}#sk-container-id-2 div.sk-label-container {text-align: center;}#sk-container-id-2 div.sk-container {/* jupyter's `normalize.less` sets `[hidden] { display: none; }` but bootstrap.min.css set `[hidden] { display: none !important; }` so we also need the `!important` here to be able to override the default hidden behavior on the sphinx rendered scikit-learn.org. See: https://github.com/scikit-learn/scikit-learn/issues/21755 */display: inline-block !important;position: relative;}#sk-container-id-2 div.sk-text-repr-fallback {display: none;}</style><div id=\"sk-container-id-2\" class=\"sk-top-container\"><div class=\"sk-text-repr-fallback\"><pre>LabelEncoder()</pre><b>In a Jupyter environment, please rerun this cell to show the HTML representation or trust the notebook. <br />On GitHub, the HTML representation is unable to render, please try loading this page with nbviewer.org.</b></div><div class=\"sk-container\" hidden><div class=\"sk-item\"><div class=\"sk-estimator sk-toggleable\"><input class=\"sk-toggleable__control sk-hidden--visually\" id=\"sk-estimator-id-2\" type=\"checkbox\" checked><label for=\"sk-estimator-id-2\" class=\"sk-toggleable__label sk-toggleable__label-arrow\">LabelEncoder</label><div class=\"sk-toggleable__content\"><pre>LabelEncoder()</pre></div></div></div></div></div>"
     },
     "execution_count": 67,
     "metadata": {},
     "output_type": "execute_result"
    }
   ],
   "source": [
    "le = LabelEncoder()\n",
    "le.fit(weather['HiDir'])"
   ],
   "metadata": {
    "collapsed": false,
    "ExecuteTime": {
     "end_time": "2024-12-07T20:31:52.359076Z",
     "start_time": "2024-12-07T20:31:52.242309Z"
    }
   }
  },
  {
   "cell_type": "code",
   "execution_count": 68,
   "outputs": [],
   "source": [
    "weather['HiDir'] = le.transform(weather['HiDir'])\n",
    "weather['WindDir'] = le.transform(weather['WindDir'])"
   ],
   "metadata": {
    "collapsed": false,
    "ExecuteTime": {
     "end_time": "2024-12-07T20:31:52.359774Z",
     "start_time": "2024-12-07T20:31:52.246829Z"
    }
   }
  },
  {
   "cell_type": "code",
   "execution_count": 69,
   "outputs": [],
   "source": [
    "weather = weather[weather['TempOut'] != '---']"
   ],
   "metadata": {
    "collapsed": false,
    "ExecuteTime": {
     "end_time": "2024-12-07T20:31:52.360151Z",
     "start_time": "2024-12-07T20:31:52.288933Z"
    }
   }
  },
  {
   "cell_type": "code",
   "execution_count": 70,
   "outputs": [
    {
     "data": {
      "text/plain": "                Site       Date TempOut HiTemp LowTemp OutHum DewPt  \\\n0               YMCA 2014-01-07    10.6   10.6    10.4     84     8   \n1               YMCA 2014-01-07    10.7   10.8    10.6     83   7.9   \n2               YMCA 2014-01-07    10.7   10.8    10.7     81   7.6   \n3               YMCA 2014-01-07    10.4   10.7    10.3     82   7.4   \n4               YMCA 2014-01-07    10.3   10.4    10.3     84   7.7   \n...              ...        ...     ...    ...     ...    ...   ...   \n68706  Easthill Road 2014-07-20    19.2   19.2    19.1     92  17.8   \n68708  Easthill Road 2014-07-20      19   19.1    18.9     93  17.8   \n68709  Easthill Road 2014-07-20    18.6     19    18.6     92  17.3   \n68710  Easthill Road 2014-07-20    18.4   18.5    18.4     93  17.3   \n68711  Easthill Road 2014-07-20    18.1   18.4    18.1     94  17.1   \n\n       WindSpeed  WindDir  WindRun  ...  InHum  InDew InHeat InEMC  \\\n0              5       15      2.5  ...     50    6.8   16.3  9.39   \n1              6       15      3.0  ...     50    6.8   16.2  9.39   \n2              6       14      3.0  ...     50    6.6   16.1  9.39   \n3              5        8      2.5  ...     50    6.6   16.1  9.39   \n4              5       15      2.5  ...     50    6.3   15.8  9.40   \n...          ...      ...      ...  ...    ...    ...    ...   ...   \n68706          0        2      0.0  ...     53   14.0   24.3  9.65   \n68708          0        6      0.0  ...     54   14.2   24.3  9.84   \n68709          0        5      0.0  ...     54   14.0   24.1  9.85   \n68710          0        5      0.0  ...     54   14.0   24.1  9.85   \n68711          0        6      0.0  ...     54   14.0   24.1  9.85   \n\n      InAirDensity    ET  WindSamp  WindTx ISSRecept ArcInt  \n0           0.0739  0.00       385       1      56.3     30  \n1           0.0740  0.03       702       1     100.0     30  \n2           0.0740  0.00       703       1     100.0     30  \n3           0.0741  0.03       702       1     100.0     30  \n4           0.0742  0.00       703       1     100.0     30  \n...            ...   ...       ...     ...       ...    ...  \n68706       0.0725  0.00       679       3     100.0     30  \n68708       0.0725  0.00       236       1      34.5     30  \n68709       0.0726  0.00       673       1      98.4     30  \n68710       0.0726  0.00       346       1      50.6     30  \n68711       0.0727  0.00       390       1      57.0     30  \n\n[67809 rows x 34 columns]",
      "text/html": "<div>\n<style scoped>\n    .dataframe tbody tr th:only-of-type {\n        vertical-align: middle;\n    }\n\n    .dataframe tbody tr th {\n        vertical-align: top;\n    }\n\n    .dataframe thead th {\n        text-align: right;\n    }\n</style>\n<table border=\"1\" class=\"dataframe\">\n  <thead>\n    <tr style=\"text-align: right;\">\n      <th></th>\n      <th>Site</th>\n      <th>Date</th>\n      <th>TempOut</th>\n      <th>HiTemp</th>\n      <th>LowTemp</th>\n      <th>OutHum</th>\n      <th>DewPt</th>\n      <th>WindSpeed</th>\n      <th>WindDir</th>\n      <th>WindRun</th>\n      <th>...</th>\n      <th>InHum</th>\n      <th>InDew</th>\n      <th>InHeat</th>\n      <th>InEMC</th>\n      <th>InAirDensity</th>\n      <th>ET</th>\n      <th>WindSamp</th>\n      <th>WindTx</th>\n      <th>ISSRecept</th>\n      <th>ArcInt</th>\n    </tr>\n  </thead>\n  <tbody>\n    <tr>\n      <th>0</th>\n      <td>YMCA</td>\n      <td>2014-01-07</td>\n      <td>10.6</td>\n      <td>10.6</td>\n      <td>10.4</td>\n      <td>84</td>\n      <td>8</td>\n      <td>5</td>\n      <td>15</td>\n      <td>2.5</td>\n      <td>...</td>\n      <td>50</td>\n      <td>6.8</td>\n      <td>16.3</td>\n      <td>9.39</td>\n      <td>0.0739</td>\n      <td>0.00</td>\n      <td>385</td>\n      <td>1</td>\n      <td>56.3</td>\n      <td>30</td>\n    </tr>\n    <tr>\n      <th>1</th>\n      <td>YMCA</td>\n      <td>2014-01-07</td>\n      <td>10.7</td>\n      <td>10.8</td>\n      <td>10.6</td>\n      <td>83</td>\n      <td>7.9</td>\n      <td>6</td>\n      <td>15</td>\n      <td>3.0</td>\n      <td>...</td>\n      <td>50</td>\n      <td>6.8</td>\n      <td>16.2</td>\n      <td>9.39</td>\n      <td>0.0740</td>\n      <td>0.03</td>\n      <td>702</td>\n      <td>1</td>\n      <td>100.0</td>\n      <td>30</td>\n    </tr>\n    <tr>\n      <th>2</th>\n      <td>YMCA</td>\n      <td>2014-01-07</td>\n      <td>10.7</td>\n      <td>10.8</td>\n      <td>10.7</td>\n      <td>81</td>\n      <td>7.6</td>\n      <td>6</td>\n      <td>14</td>\n      <td>3.0</td>\n      <td>...</td>\n      <td>50</td>\n      <td>6.6</td>\n      <td>16.1</td>\n      <td>9.39</td>\n      <td>0.0740</td>\n      <td>0.00</td>\n      <td>703</td>\n      <td>1</td>\n      <td>100.0</td>\n      <td>30</td>\n    </tr>\n    <tr>\n      <th>3</th>\n      <td>YMCA</td>\n      <td>2014-01-07</td>\n      <td>10.4</td>\n      <td>10.7</td>\n      <td>10.3</td>\n      <td>82</td>\n      <td>7.4</td>\n      <td>5</td>\n      <td>8</td>\n      <td>2.5</td>\n      <td>...</td>\n      <td>50</td>\n      <td>6.6</td>\n      <td>16.1</td>\n      <td>9.39</td>\n      <td>0.0741</td>\n      <td>0.03</td>\n      <td>702</td>\n      <td>1</td>\n      <td>100.0</td>\n      <td>30</td>\n    </tr>\n    <tr>\n      <th>4</th>\n      <td>YMCA</td>\n      <td>2014-01-07</td>\n      <td>10.3</td>\n      <td>10.4</td>\n      <td>10.3</td>\n      <td>84</td>\n      <td>7.7</td>\n      <td>5</td>\n      <td>15</td>\n      <td>2.5</td>\n      <td>...</td>\n      <td>50</td>\n      <td>6.3</td>\n      <td>15.8</td>\n      <td>9.40</td>\n      <td>0.0742</td>\n      <td>0.00</td>\n      <td>703</td>\n      <td>1</td>\n      <td>100.0</td>\n      <td>30</td>\n    </tr>\n    <tr>\n      <th>...</th>\n      <td>...</td>\n      <td>...</td>\n      <td>...</td>\n      <td>...</td>\n      <td>...</td>\n      <td>...</td>\n      <td>...</td>\n      <td>...</td>\n      <td>...</td>\n      <td>...</td>\n      <td>...</td>\n      <td>...</td>\n      <td>...</td>\n      <td>...</td>\n      <td>...</td>\n      <td>...</td>\n      <td>...</td>\n      <td>...</td>\n      <td>...</td>\n      <td>...</td>\n      <td>...</td>\n    </tr>\n    <tr>\n      <th>68706</th>\n      <td>Easthill Road</td>\n      <td>2014-07-20</td>\n      <td>19.2</td>\n      <td>19.2</td>\n      <td>19.1</td>\n      <td>92</td>\n      <td>17.8</td>\n      <td>0</td>\n      <td>2</td>\n      <td>0.0</td>\n      <td>...</td>\n      <td>53</td>\n      <td>14.0</td>\n      <td>24.3</td>\n      <td>9.65</td>\n      <td>0.0725</td>\n      <td>0.00</td>\n      <td>679</td>\n      <td>3</td>\n      <td>100.0</td>\n      <td>30</td>\n    </tr>\n    <tr>\n      <th>68708</th>\n      <td>Easthill Road</td>\n      <td>2014-07-20</td>\n      <td>19</td>\n      <td>19.1</td>\n      <td>18.9</td>\n      <td>93</td>\n      <td>17.8</td>\n      <td>0</td>\n      <td>6</td>\n      <td>0.0</td>\n      <td>...</td>\n      <td>54</td>\n      <td>14.2</td>\n      <td>24.3</td>\n      <td>9.84</td>\n      <td>0.0725</td>\n      <td>0.00</td>\n      <td>236</td>\n      <td>1</td>\n      <td>34.5</td>\n      <td>30</td>\n    </tr>\n    <tr>\n      <th>68709</th>\n      <td>Easthill Road</td>\n      <td>2014-07-20</td>\n      <td>18.6</td>\n      <td>19</td>\n      <td>18.6</td>\n      <td>92</td>\n      <td>17.3</td>\n      <td>0</td>\n      <td>5</td>\n      <td>0.0</td>\n      <td>...</td>\n      <td>54</td>\n      <td>14.0</td>\n      <td>24.1</td>\n      <td>9.85</td>\n      <td>0.0726</td>\n      <td>0.00</td>\n      <td>673</td>\n      <td>1</td>\n      <td>98.4</td>\n      <td>30</td>\n    </tr>\n    <tr>\n      <th>68710</th>\n      <td>Easthill Road</td>\n      <td>2014-07-20</td>\n      <td>18.4</td>\n      <td>18.5</td>\n      <td>18.4</td>\n      <td>93</td>\n      <td>17.3</td>\n      <td>0</td>\n      <td>5</td>\n      <td>0.0</td>\n      <td>...</td>\n      <td>54</td>\n      <td>14.0</td>\n      <td>24.1</td>\n      <td>9.85</td>\n      <td>0.0726</td>\n      <td>0.00</td>\n      <td>346</td>\n      <td>1</td>\n      <td>50.6</td>\n      <td>30</td>\n    </tr>\n    <tr>\n      <th>68711</th>\n      <td>Easthill Road</td>\n      <td>2014-07-20</td>\n      <td>18.1</td>\n      <td>18.4</td>\n      <td>18.1</td>\n      <td>94</td>\n      <td>17.1</td>\n      <td>0</td>\n      <td>6</td>\n      <td>0.0</td>\n      <td>...</td>\n      <td>54</td>\n      <td>14.0</td>\n      <td>24.1</td>\n      <td>9.85</td>\n      <td>0.0727</td>\n      <td>0.00</td>\n      <td>390</td>\n      <td>1</td>\n      <td>57.0</td>\n      <td>30</td>\n    </tr>\n  </tbody>\n</table>\n<p>67809 rows × 34 columns</p>\n</div>"
     },
     "execution_count": 70,
     "metadata": {},
     "output_type": "execute_result"
    }
   ],
   "source": [
    "weather"
   ],
   "metadata": {
    "collapsed": false,
    "ExecuteTime": {
     "end_time": "2024-12-07T20:31:52.360717Z",
     "start_time": "2024-12-07T20:31:52.301013Z"
    }
   }
  },
  {
   "cell_type": "code",
   "execution_count": 71,
   "outputs": [
    {
     "data": {
      "text/plain": "                Site       Date TempOut HiTemp LowTemp OutHum DewPt  \\\n68020  Easthill Road 2014-07-06      17     17      17     92  15.7   \n68023  Easthill Road 2014-07-06    16.3   16.4    16.3     88  14.3   \n68027  Easthill Road 2014-07-06    19.3   19.3    17.5     79  15.5   \n68655  Easthill Road 2014-07-19    27.1   27.6    27.1     63  19.4   \n68663  Easthill Road 2014-07-19    23.9   24.1    23.9     78  19.9   \n68666  Easthill Road 2014-07-19    22.2   22.7    22.2     84  19.3   \n\n       WindSpeed  WindDir  WindRun  ...  InHum  InDew InHeat InEMC  \\\n68020          0        0      0.0  ...     53   12.2   21.8  9.77   \n68023          0        4      0.0  ...     51   11.6   21.8  9.41   \n68027          0        4      0.0  ...     48   11.2   22.5  8.91   \n68655          1       14      0.5  ...     44   16.4   30.5  8.13   \n68663          0        0      0.0  ...     44   15.9   29.9  8.15   \n68666          0        0      0.0  ...     46   15.5   28.4  8.45   \n\n      InAirDensity   ET  WindSamp  WindTx ISSRecept ArcInt  \n68020       0.0725  0.0         6       1       0.9     30  \n68023       0.0726  0.0        14       1       2.0     30  \n68027       0.0725  0.0        61       1       8.9     30  \n68655       0.0706  0.0        15       1       2.2     30  \n68663       0.0708  0.0         7       1       1.0     30  \n68666       0.0711  0.0       102       1      14.9     30  \n\n[6 rows x 34 columns]",
      "text/html": "<div>\n<style scoped>\n    .dataframe tbody tr th:only-of-type {\n        vertical-align: middle;\n    }\n\n    .dataframe tbody tr th {\n        vertical-align: top;\n    }\n\n    .dataframe thead th {\n        text-align: right;\n    }\n</style>\n<table border=\"1\" class=\"dataframe\">\n  <thead>\n    <tr style=\"text-align: right;\">\n      <th></th>\n      <th>Site</th>\n      <th>Date</th>\n      <th>TempOut</th>\n      <th>HiTemp</th>\n      <th>LowTemp</th>\n      <th>OutHum</th>\n      <th>DewPt</th>\n      <th>WindSpeed</th>\n      <th>WindDir</th>\n      <th>WindRun</th>\n      <th>...</th>\n      <th>InHum</th>\n      <th>InDew</th>\n      <th>InHeat</th>\n      <th>InEMC</th>\n      <th>InAirDensity</th>\n      <th>ET</th>\n      <th>WindSamp</th>\n      <th>WindTx</th>\n      <th>ISSRecept</th>\n      <th>ArcInt</th>\n    </tr>\n  </thead>\n  <tbody>\n    <tr>\n      <th>68020</th>\n      <td>Easthill Road</td>\n      <td>2014-07-06</td>\n      <td>17</td>\n      <td>17</td>\n      <td>17</td>\n      <td>92</td>\n      <td>15.7</td>\n      <td>0</td>\n      <td>0</td>\n      <td>0.0</td>\n      <td>...</td>\n      <td>53</td>\n      <td>12.2</td>\n      <td>21.8</td>\n      <td>9.77</td>\n      <td>0.0725</td>\n      <td>0.0</td>\n      <td>6</td>\n      <td>1</td>\n      <td>0.9</td>\n      <td>30</td>\n    </tr>\n    <tr>\n      <th>68023</th>\n      <td>Easthill Road</td>\n      <td>2014-07-06</td>\n      <td>16.3</td>\n      <td>16.4</td>\n      <td>16.3</td>\n      <td>88</td>\n      <td>14.3</td>\n      <td>0</td>\n      <td>4</td>\n      <td>0.0</td>\n      <td>...</td>\n      <td>51</td>\n      <td>11.6</td>\n      <td>21.8</td>\n      <td>9.41</td>\n      <td>0.0726</td>\n      <td>0.0</td>\n      <td>14</td>\n      <td>1</td>\n      <td>2.0</td>\n      <td>30</td>\n    </tr>\n    <tr>\n      <th>68027</th>\n      <td>Easthill Road</td>\n      <td>2014-07-06</td>\n      <td>19.3</td>\n      <td>19.3</td>\n      <td>17.5</td>\n      <td>79</td>\n      <td>15.5</td>\n      <td>0</td>\n      <td>4</td>\n      <td>0.0</td>\n      <td>...</td>\n      <td>48</td>\n      <td>11.2</td>\n      <td>22.5</td>\n      <td>8.91</td>\n      <td>0.0725</td>\n      <td>0.0</td>\n      <td>61</td>\n      <td>1</td>\n      <td>8.9</td>\n      <td>30</td>\n    </tr>\n    <tr>\n      <th>68655</th>\n      <td>Easthill Road</td>\n      <td>2014-07-19</td>\n      <td>27.1</td>\n      <td>27.6</td>\n      <td>27.1</td>\n      <td>63</td>\n      <td>19.4</td>\n      <td>1</td>\n      <td>14</td>\n      <td>0.5</td>\n      <td>...</td>\n      <td>44</td>\n      <td>16.4</td>\n      <td>30.5</td>\n      <td>8.13</td>\n      <td>0.0706</td>\n      <td>0.0</td>\n      <td>15</td>\n      <td>1</td>\n      <td>2.2</td>\n      <td>30</td>\n    </tr>\n    <tr>\n      <th>68663</th>\n      <td>Easthill Road</td>\n      <td>2014-07-19</td>\n      <td>23.9</td>\n      <td>24.1</td>\n      <td>23.9</td>\n      <td>78</td>\n      <td>19.9</td>\n      <td>0</td>\n      <td>0</td>\n      <td>0.0</td>\n      <td>...</td>\n      <td>44</td>\n      <td>15.9</td>\n      <td>29.9</td>\n      <td>8.15</td>\n      <td>0.0708</td>\n      <td>0.0</td>\n      <td>7</td>\n      <td>1</td>\n      <td>1.0</td>\n      <td>30</td>\n    </tr>\n    <tr>\n      <th>68666</th>\n      <td>Easthill Road</td>\n      <td>2014-07-19</td>\n      <td>22.2</td>\n      <td>22.7</td>\n      <td>22.2</td>\n      <td>84</td>\n      <td>19.3</td>\n      <td>0</td>\n      <td>0</td>\n      <td>0.0</td>\n      <td>...</td>\n      <td>46</td>\n      <td>15.5</td>\n      <td>28.4</td>\n      <td>8.45</td>\n      <td>0.0711</td>\n      <td>0.0</td>\n      <td>102</td>\n      <td>1</td>\n      <td>14.9</td>\n      <td>30</td>\n    </tr>\n  </tbody>\n</table>\n<p>6 rows × 34 columns</p>\n</div>"
     },
     "execution_count": 71,
     "metadata": {},
     "output_type": "execute_result"
    }
   ],
   "source": [
    "# we have to rid of nans.\n",
    "weather[weather['HiSolarRad'] == '---']"
   ],
   "metadata": {
    "collapsed": false,
    "ExecuteTime": {
     "end_time": "2024-12-07T20:31:52.360895Z",
     "start_time": "2024-12-07T20:31:52.340672Z"
    }
   }
  },
  {
   "cell_type": "code",
   "execution_count": 72,
   "outputs": [],
   "source": [
    "from datetime import datetime"
   ],
   "metadata": {
    "collapsed": false,
    "ExecuteTime": {
     "end_time": "2024-12-07T20:31:52.366289Z",
     "start_time": "2024-12-07T20:31:52.359349Z"
    }
   }
  },
  {
   "cell_type": "code",
   "execution_count": 73,
   "outputs": [
    {
     "data": {
      "text/plain": "                Site       Date TempOut HiTemp LowTemp OutHum DewPt  \\\n68020  Easthill Road 2014-07-06      17     17      17     92  15.7   \n68023  Easthill Road 2014-07-06    16.3   16.4    16.3     88  14.3   \n68027  Easthill Road 2014-07-06    19.3   19.3    17.5     79  15.5   \n68028  Easthill Road 2014-07-06    19.6   19.6    19.3     71  14.2   \n68029  Easthill Road 2014-07-06    19.9   19.9    19.6     67  13.6   \n68030  Easthill Road 2014-07-06    21.1   21.1    19.9     62  13.5   \n68031  Easthill Road 2014-07-06    20.9   21.1    20.9     62  13.3   \n\n       WindSpeed  WindDir  WindRun  ...  InHum  InDew InHeat InEMC  \\\n68020          0        0      0.0  ...     53   12.2   21.8  9.77   \n68023          0        4      0.0  ...     51   11.6   21.8  9.41   \n68027          0        4      0.0  ...     48   11.2   22.5  8.91   \n68028          0       15      0.0  ...     47   11.5   23.2  8.75   \n68029          0       14      0.0  ...     46   11.6   23.8  8.55   \n68030          0       15      0.0  ...     45   11.6   24.1  8.43   \n68031          1       14      0.5  ...     44   11.6   24.4  8.22   \n\n      InAirDensity    ET  WindSamp  WindTx ISSRecept ArcInt  \n68020       0.0725  0.00         6       1       0.9     30  \n68023       0.0726  0.00        14       1       2.0     30  \n68027       0.0725  0.00        61       1       8.9     30  \n68028       0.0723  0.00       462       1      67.5     30  \n68029       0.0722  0.00       630       1      92.1     30  \n68030       0.0721  0.03       470       5      75.7     30  \n68031       0.0720  0.00       204       5      32.9     30  \n\n[7 rows x 34 columns]",
      "text/html": "<div>\n<style scoped>\n    .dataframe tbody tr th:only-of-type {\n        vertical-align: middle;\n    }\n\n    .dataframe tbody tr th {\n        vertical-align: top;\n    }\n\n    .dataframe thead th {\n        text-align: right;\n    }\n</style>\n<table border=\"1\" class=\"dataframe\">\n  <thead>\n    <tr style=\"text-align: right;\">\n      <th></th>\n      <th>Site</th>\n      <th>Date</th>\n      <th>TempOut</th>\n      <th>HiTemp</th>\n      <th>LowTemp</th>\n      <th>OutHum</th>\n      <th>DewPt</th>\n      <th>WindSpeed</th>\n      <th>WindDir</th>\n      <th>WindRun</th>\n      <th>...</th>\n      <th>InHum</th>\n      <th>InDew</th>\n      <th>InHeat</th>\n      <th>InEMC</th>\n      <th>InAirDensity</th>\n      <th>ET</th>\n      <th>WindSamp</th>\n      <th>WindTx</th>\n      <th>ISSRecept</th>\n      <th>ArcInt</th>\n    </tr>\n  </thead>\n  <tbody>\n    <tr>\n      <th>68020</th>\n      <td>Easthill Road</td>\n      <td>2014-07-06</td>\n      <td>17</td>\n      <td>17</td>\n      <td>17</td>\n      <td>92</td>\n      <td>15.7</td>\n      <td>0</td>\n      <td>0</td>\n      <td>0.0</td>\n      <td>...</td>\n      <td>53</td>\n      <td>12.2</td>\n      <td>21.8</td>\n      <td>9.77</td>\n      <td>0.0725</td>\n      <td>0.00</td>\n      <td>6</td>\n      <td>1</td>\n      <td>0.9</td>\n      <td>30</td>\n    </tr>\n    <tr>\n      <th>68023</th>\n      <td>Easthill Road</td>\n      <td>2014-07-06</td>\n      <td>16.3</td>\n      <td>16.4</td>\n      <td>16.3</td>\n      <td>88</td>\n      <td>14.3</td>\n      <td>0</td>\n      <td>4</td>\n      <td>0.0</td>\n      <td>...</td>\n      <td>51</td>\n      <td>11.6</td>\n      <td>21.8</td>\n      <td>9.41</td>\n      <td>0.0726</td>\n      <td>0.00</td>\n      <td>14</td>\n      <td>1</td>\n      <td>2.0</td>\n      <td>30</td>\n    </tr>\n    <tr>\n      <th>68027</th>\n      <td>Easthill Road</td>\n      <td>2014-07-06</td>\n      <td>19.3</td>\n      <td>19.3</td>\n      <td>17.5</td>\n      <td>79</td>\n      <td>15.5</td>\n      <td>0</td>\n      <td>4</td>\n      <td>0.0</td>\n      <td>...</td>\n      <td>48</td>\n      <td>11.2</td>\n      <td>22.5</td>\n      <td>8.91</td>\n      <td>0.0725</td>\n      <td>0.00</td>\n      <td>61</td>\n      <td>1</td>\n      <td>8.9</td>\n      <td>30</td>\n    </tr>\n    <tr>\n      <th>68028</th>\n      <td>Easthill Road</td>\n      <td>2014-07-06</td>\n      <td>19.6</td>\n      <td>19.6</td>\n      <td>19.3</td>\n      <td>71</td>\n      <td>14.2</td>\n      <td>0</td>\n      <td>15</td>\n      <td>0.0</td>\n      <td>...</td>\n      <td>47</td>\n      <td>11.5</td>\n      <td>23.2</td>\n      <td>8.75</td>\n      <td>0.0723</td>\n      <td>0.00</td>\n      <td>462</td>\n      <td>1</td>\n      <td>67.5</td>\n      <td>30</td>\n    </tr>\n    <tr>\n      <th>68029</th>\n      <td>Easthill Road</td>\n      <td>2014-07-06</td>\n      <td>19.9</td>\n      <td>19.9</td>\n      <td>19.6</td>\n      <td>67</td>\n      <td>13.6</td>\n      <td>0</td>\n      <td>14</td>\n      <td>0.0</td>\n      <td>...</td>\n      <td>46</td>\n      <td>11.6</td>\n      <td>23.8</td>\n      <td>8.55</td>\n      <td>0.0722</td>\n      <td>0.00</td>\n      <td>630</td>\n      <td>1</td>\n      <td>92.1</td>\n      <td>30</td>\n    </tr>\n    <tr>\n      <th>68030</th>\n      <td>Easthill Road</td>\n      <td>2014-07-06</td>\n      <td>21.1</td>\n      <td>21.1</td>\n      <td>19.9</td>\n      <td>62</td>\n      <td>13.5</td>\n      <td>0</td>\n      <td>15</td>\n      <td>0.0</td>\n      <td>...</td>\n      <td>45</td>\n      <td>11.6</td>\n      <td>24.1</td>\n      <td>8.43</td>\n      <td>0.0721</td>\n      <td>0.03</td>\n      <td>470</td>\n      <td>5</td>\n      <td>75.7</td>\n      <td>30</td>\n    </tr>\n    <tr>\n      <th>68031</th>\n      <td>Easthill Road</td>\n      <td>2014-07-06</td>\n      <td>20.9</td>\n      <td>21.1</td>\n      <td>20.9</td>\n      <td>62</td>\n      <td>13.3</td>\n      <td>1</td>\n      <td>14</td>\n      <td>0.5</td>\n      <td>...</td>\n      <td>44</td>\n      <td>11.6</td>\n      <td>24.4</td>\n      <td>8.22</td>\n      <td>0.0720</td>\n      <td>0.00</td>\n      <td>204</td>\n      <td>5</td>\n      <td>32.9</td>\n      <td>30</td>\n    </tr>\n  </tbody>\n</table>\n<p>7 rows × 34 columns</p>\n</div>"
     },
     "execution_count": 73,
     "metadata": {},
     "output_type": "execute_result"
    }
   ],
   "source": [
    "weather[(weather['Site']=='Easthill Road') & (weather['Date']==datetime(2014, 7, 6))]"
   ],
   "metadata": {
    "collapsed": false,
    "ExecuteTime": {
     "end_time": "2024-12-07T20:31:52.415768Z",
     "start_time": "2024-12-07T20:31:52.367821Z"
    }
   }
  },
  {
   "cell_type": "code",
   "execution_count": 74,
   "outputs": [
    {
     "data": {
      "text/plain": "SolarRad       16.2500\nSolarEnergy     0.6975\nHiSolarRad     18.5000\ndtype: float64"
     },
     "execution_count": 74,
     "metadata": {},
     "output_type": "execute_result"
    }
   ],
   "source": [
    "# we use average of power and we want to use average of weather data, so nans are replace with mean values.\n",
    "weather[(weather['Site']=='Easthill Road') & (weather['Date']==datetime(2014, 7, 6)) & (weather['SolarRad'] != '---')].agg({'SolarRad': 'mean', 'SolarEnergy': 'mean', 'HiSolarRad': 'mean'})"
   ],
   "metadata": {
    "collapsed": false,
    "ExecuteTime": {
     "end_time": "2024-12-07T20:31:52.448655Z",
     "start_time": "2024-12-07T20:31:52.388932Z"
    }
   }
  },
  {
   "cell_type": "code",
   "execution_count": 75,
   "outputs": [],
   "source": [
    "weather.loc[(weather['Site']=='Easthill Road') & (weather['Date']==datetime(2014, 7, 6)) & (weather['SolarRad'] == '---'), 'SolarRad'] = 16.25\n",
    "weather.loc[(weather['Site']=='Easthill Road') & (weather['Date']==datetime(2014, 7, 6)) & (weather['SolarEnergy'] == '---'), 'SolarEnergy'] = 0.6975\n",
    "weather.loc[(weather['Site']=='Easthill Road') & (weather['Date']==datetime(2014, 7, 6)) & (weather['HiSolarRad'] == '---'), 'HiSolarRad'] = 18.5"
   ],
   "metadata": {
    "collapsed": false,
    "ExecuteTime": {
     "end_time": "2024-12-07T20:31:59.124866Z",
     "start_time": "2024-12-07T20:31:59.096011Z"
    }
   }
  },
  {
   "cell_type": "code",
   "execution_count": 76,
   "outputs": [
    {
     "data": {
      "text/plain": "                Site       Date TempOut HiTemp LowTemp OutHum DewPt  \\\n68633  Easthill Road 2014-07-19    18.5   18.9    18.5     93  17.3   \n68634  Easthill Road 2014-07-19    18.2   18.3    18.2     96  17.6   \n68635  Easthill Road 2014-07-19    18.1   18.2    18.1     96  17.4   \n68636  Easthill Road 2014-07-19    18.1   18.2    18.1     97  17.6   \n68647  Easthill Road 2014-07-19    24.4   24.4    24.3     73  19.2   \n68648  Easthill Road 2014-07-19    24.7   24.8    24.4     71  19.1   \n68649  Easthill Road 2014-07-19    25.4   25.4    24.7     69  19.3   \n68650  Easthill Road 2014-07-19    25.5   25.7    25.4     69  19.4   \n68651  Easthill Road 2014-07-19    27.1   27.1    25.5     65    20   \n68652  Easthill Road 2014-07-19    26.2   27.2    26.2     65  19.1   \n68653  Easthill Road 2014-07-19      27     27    26.2     63  19.4   \n68654  Easthill Road 2014-07-19    27.3   27.3    26.8     64  19.9   \n68666  Easthill Road 2014-07-19    22.2   22.7    22.2     84  19.3   \n68667  Easthill Road 2014-07-19    21.9   22.1    21.9     85  19.3   \n68668  Easthill Road 2014-07-19    21.9   21.9    21.9     85  19.3   \n\n       WindSpeed  WindDir  WindRun  ...  InHum  InDew InHeat InEMC  \\\n68633          0        7      0.0  ...     51   13.4   24.3  9.35   \n68634          0        0      0.0  ...     52   13.5   24.1  9.55   \n68635          0        1      0.0  ...     53   13.6   23.8  9.66   \n68636          0        0      0.0  ...     54   13.7   23.6  9.86   \n68647          0       12      0.0  ...     49   16.1   28.1  8.91   \n68648          1       12      0.5  ...     47   15.8   28.5  8.60   \n68649          1       12      0.5  ...     47   16.0   28.8  8.59   \n68650          1       12      0.5  ...     46   15.9   29.1  8.45   \n68651          1        3      0.5  ...     46   16.2   29.6  8.45   \n68652          0        3      0.0  ...     45   16.0   29.8  8.26   \n68653          0        1      0.0  ...     44   15.9   29.9  8.15   \n68654          0        2      0.0  ...     44   16.1   30.2  8.14   \n68666          0        0      0.0  ...     46   15.5   28.4  8.45   \n68667          0       16      0.0  ...     47   15.4   27.8  8.61   \n68668          0        3      0.0  ...     48   15.4   27.4  8.82   \n\n      InAirDensity    ET  WindSamp  WindTx ISSRecept ArcInt  \n68633       0.0726  0.03       200       1      29.2     30  \n68634       0.0727  0.00       480       1      70.2     30  \n68635       0.0727  0.00       504       1      73.7     30  \n68636       0.0726  0.00       701       1     100.0     30  \n68647       0.0713  0.00       309       1      45.2     30  \n68648       0.0712  0.00       424       1      62.0     30  \n68649       0.0711  0.00       702       1     100.0     30  \n68650       0.0710  0.03       702       1     100.0     30  \n68651       0.0709  0.03       702       1     100.0     30  \n68652       0.0709  0.00       701       1     100.0     30  \n68653       0.0708  0.03       608       1      88.9     30  \n68654       0.0707  0.00       463       1      67.7     30  \n68666       0.0711  0.00       102       1      14.9     30  \n68667       0.0712  0.03       104       1      15.2     30  \n68668       0.0714  0.00        10       1       1.5     30  \n\n[15 rows x 34 columns]",
      "text/html": "<div>\n<style scoped>\n    .dataframe tbody tr th:only-of-type {\n        vertical-align: middle;\n    }\n\n    .dataframe tbody tr th {\n        vertical-align: top;\n    }\n\n    .dataframe thead th {\n        text-align: right;\n    }\n</style>\n<table border=\"1\" class=\"dataframe\">\n  <thead>\n    <tr style=\"text-align: right;\">\n      <th></th>\n      <th>Site</th>\n      <th>Date</th>\n      <th>TempOut</th>\n      <th>HiTemp</th>\n      <th>LowTemp</th>\n      <th>OutHum</th>\n      <th>DewPt</th>\n      <th>WindSpeed</th>\n      <th>WindDir</th>\n      <th>WindRun</th>\n      <th>...</th>\n      <th>InHum</th>\n      <th>InDew</th>\n      <th>InHeat</th>\n      <th>InEMC</th>\n      <th>InAirDensity</th>\n      <th>ET</th>\n      <th>WindSamp</th>\n      <th>WindTx</th>\n      <th>ISSRecept</th>\n      <th>ArcInt</th>\n    </tr>\n  </thead>\n  <tbody>\n    <tr>\n      <th>68633</th>\n      <td>Easthill Road</td>\n      <td>2014-07-19</td>\n      <td>18.5</td>\n      <td>18.9</td>\n      <td>18.5</td>\n      <td>93</td>\n      <td>17.3</td>\n      <td>0</td>\n      <td>7</td>\n      <td>0.0</td>\n      <td>...</td>\n      <td>51</td>\n      <td>13.4</td>\n      <td>24.3</td>\n      <td>9.35</td>\n      <td>0.0726</td>\n      <td>0.03</td>\n      <td>200</td>\n      <td>1</td>\n      <td>29.2</td>\n      <td>30</td>\n    </tr>\n    <tr>\n      <th>68634</th>\n      <td>Easthill Road</td>\n      <td>2014-07-19</td>\n      <td>18.2</td>\n      <td>18.3</td>\n      <td>18.2</td>\n      <td>96</td>\n      <td>17.6</td>\n      <td>0</td>\n      <td>0</td>\n      <td>0.0</td>\n      <td>...</td>\n      <td>52</td>\n      <td>13.5</td>\n      <td>24.1</td>\n      <td>9.55</td>\n      <td>0.0727</td>\n      <td>0.00</td>\n      <td>480</td>\n      <td>1</td>\n      <td>70.2</td>\n      <td>30</td>\n    </tr>\n    <tr>\n      <th>68635</th>\n      <td>Easthill Road</td>\n      <td>2014-07-19</td>\n      <td>18.1</td>\n      <td>18.2</td>\n      <td>18.1</td>\n      <td>96</td>\n      <td>17.4</td>\n      <td>0</td>\n      <td>1</td>\n      <td>0.0</td>\n      <td>...</td>\n      <td>53</td>\n      <td>13.6</td>\n      <td>23.8</td>\n      <td>9.66</td>\n      <td>0.0727</td>\n      <td>0.00</td>\n      <td>504</td>\n      <td>1</td>\n      <td>73.7</td>\n      <td>30</td>\n    </tr>\n    <tr>\n      <th>68636</th>\n      <td>Easthill Road</td>\n      <td>2014-07-19</td>\n      <td>18.1</td>\n      <td>18.2</td>\n      <td>18.1</td>\n      <td>97</td>\n      <td>17.6</td>\n      <td>0</td>\n      <td>0</td>\n      <td>0.0</td>\n      <td>...</td>\n      <td>54</td>\n      <td>13.7</td>\n      <td>23.6</td>\n      <td>9.86</td>\n      <td>0.0726</td>\n      <td>0.00</td>\n      <td>701</td>\n      <td>1</td>\n      <td>100.0</td>\n      <td>30</td>\n    </tr>\n    <tr>\n      <th>68647</th>\n      <td>Easthill Road</td>\n      <td>2014-07-19</td>\n      <td>24.4</td>\n      <td>24.4</td>\n      <td>24.3</td>\n      <td>73</td>\n      <td>19.2</td>\n      <td>0</td>\n      <td>12</td>\n      <td>0.0</td>\n      <td>...</td>\n      <td>49</td>\n      <td>16.1</td>\n      <td>28.1</td>\n      <td>8.91</td>\n      <td>0.0713</td>\n      <td>0.00</td>\n      <td>309</td>\n      <td>1</td>\n      <td>45.2</td>\n      <td>30</td>\n    </tr>\n    <tr>\n      <th>68648</th>\n      <td>Easthill Road</td>\n      <td>2014-07-19</td>\n      <td>24.7</td>\n      <td>24.8</td>\n      <td>24.4</td>\n      <td>71</td>\n      <td>19.1</td>\n      <td>1</td>\n      <td>12</td>\n      <td>0.5</td>\n      <td>...</td>\n      <td>47</td>\n      <td>15.8</td>\n      <td>28.5</td>\n      <td>8.60</td>\n      <td>0.0712</td>\n      <td>0.00</td>\n      <td>424</td>\n      <td>1</td>\n      <td>62.0</td>\n      <td>30</td>\n    </tr>\n    <tr>\n      <th>68649</th>\n      <td>Easthill Road</td>\n      <td>2014-07-19</td>\n      <td>25.4</td>\n      <td>25.4</td>\n      <td>24.7</td>\n      <td>69</td>\n      <td>19.3</td>\n      <td>1</td>\n      <td>12</td>\n      <td>0.5</td>\n      <td>...</td>\n      <td>47</td>\n      <td>16.0</td>\n      <td>28.8</td>\n      <td>8.59</td>\n      <td>0.0711</td>\n      <td>0.00</td>\n      <td>702</td>\n      <td>1</td>\n      <td>100.0</td>\n      <td>30</td>\n    </tr>\n    <tr>\n      <th>68650</th>\n      <td>Easthill Road</td>\n      <td>2014-07-19</td>\n      <td>25.5</td>\n      <td>25.7</td>\n      <td>25.4</td>\n      <td>69</td>\n      <td>19.4</td>\n      <td>1</td>\n      <td>12</td>\n      <td>0.5</td>\n      <td>...</td>\n      <td>46</td>\n      <td>15.9</td>\n      <td>29.1</td>\n      <td>8.45</td>\n      <td>0.0710</td>\n      <td>0.03</td>\n      <td>702</td>\n      <td>1</td>\n      <td>100.0</td>\n      <td>30</td>\n    </tr>\n    <tr>\n      <th>68651</th>\n      <td>Easthill Road</td>\n      <td>2014-07-19</td>\n      <td>27.1</td>\n      <td>27.1</td>\n      <td>25.5</td>\n      <td>65</td>\n      <td>20</td>\n      <td>1</td>\n      <td>3</td>\n      <td>0.5</td>\n      <td>...</td>\n      <td>46</td>\n      <td>16.2</td>\n      <td>29.6</td>\n      <td>8.45</td>\n      <td>0.0709</td>\n      <td>0.03</td>\n      <td>702</td>\n      <td>1</td>\n      <td>100.0</td>\n      <td>30</td>\n    </tr>\n    <tr>\n      <th>68652</th>\n      <td>Easthill Road</td>\n      <td>2014-07-19</td>\n      <td>26.2</td>\n      <td>27.2</td>\n      <td>26.2</td>\n      <td>65</td>\n      <td>19.1</td>\n      <td>0</td>\n      <td>3</td>\n      <td>0.0</td>\n      <td>...</td>\n      <td>45</td>\n      <td>16.0</td>\n      <td>29.8</td>\n      <td>8.26</td>\n      <td>0.0709</td>\n      <td>0.00</td>\n      <td>701</td>\n      <td>1</td>\n      <td>100.0</td>\n      <td>30</td>\n    </tr>\n    <tr>\n      <th>68653</th>\n      <td>Easthill Road</td>\n      <td>2014-07-19</td>\n      <td>27</td>\n      <td>27</td>\n      <td>26.2</td>\n      <td>63</td>\n      <td>19.4</td>\n      <td>0</td>\n      <td>1</td>\n      <td>0.0</td>\n      <td>...</td>\n      <td>44</td>\n      <td>15.9</td>\n      <td>29.9</td>\n      <td>8.15</td>\n      <td>0.0708</td>\n      <td>0.03</td>\n      <td>608</td>\n      <td>1</td>\n      <td>88.9</td>\n      <td>30</td>\n    </tr>\n    <tr>\n      <th>68654</th>\n      <td>Easthill Road</td>\n      <td>2014-07-19</td>\n      <td>27.3</td>\n      <td>27.3</td>\n      <td>26.8</td>\n      <td>64</td>\n      <td>19.9</td>\n      <td>0</td>\n      <td>2</td>\n      <td>0.0</td>\n      <td>...</td>\n      <td>44</td>\n      <td>16.1</td>\n      <td>30.2</td>\n      <td>8.14</td>\n      <td>0.0707</td>\n      <td>0.00</td>\n      <td>463</td>\n      <td>1</td>\n      <td>67.7</td>\n      <td>30</td>\n    </tr>\n    <tr>\n      <th>68666</th>\n      <td>Easthill Road</td>\n      <td>2014-07-19</td>\n      <td>22.2</td>\n      <td>22.7</td>\n      <td>22.2</td>\n      <td>84</td>\n      <td>19.3</td>\n      <td>0</td>\n      <td>0</td>\n      <td>0.0</td>\n      <td>...</td>\n      <td>46</td>\n      <td>15.5</td>\n      <td>28.4</td>\n      <td>8.45</td>\n      <td>0.0711</td>\n      <td>0.00</td>\n      <td>102</td>\n      <td>1</td>\n      <td>14.9</td>\n      <td>30</td>\n    </tr>\n    <tr>\n      <th>68667</th>\n      <td>Easthill Road</td>\n      <td>2014-07-19</td>\n      <td>21.9</td>\n      <td>22.1</td>\n      <td>21.9</td>\n      <td>85</td>\n      <td>19.3</td>\n      <td>0</td>\n      <td>16</td>\n      <td>0.0</td>\n      <td>...</td>\n      <td>47</td>\n      <td>15.4</td>\n      <td>27.8</td>\n      <td>8.61</td>\n      <td>0.0712</td>\n      <td>0.03</td>\n      <td>104</td>\n      <td>1</td>\n      <td>15.2</td>\n      <td>30</td>\n    </tr>\n    <tr>\n      <th>68668</th>\n      <td>Easthill Road</td>\n      <td>2014-07-19</td>\n      <td>21.9</td>\n      <td>21.9</td>\n      <td>21.9</td>\n      <td>85</td>\n      <td>19.3</td>\n      <td>0</td>\n      <td>3</td>\n      <td>0.0</td>\n      <td>...</td>\n      <td>48</td>\n      <td>15.4</td>\n      <td>27.4</td>\n      <td>8.82</td>\n      <td>0.0714</td>\n      <td>0.00</td>\n      <td>10</td>\n      <td>1</td>\n      <td>1.5</td>\n      <td>30</td>\n    </tr>\n  </tbody>\n</table>\n<p>15 rows × 34 columns</p>\n</div>"
     },
     "execution_count": 76,
     "metadata": {},
     "output_type": "execute_result"
    }
   ],
   "source": [
    "weather[(weather['Site']=='Easthill Road') & (weather['Date']==datetime(2014, 7, 19)) & (weather['SolarRad'] != '---')]"
   ],
   "metadata": {
    "collapsed": false,
    "ExecuteTime": {
     "end_time": "2024-12-07T20:32:01.012824Z",
     "start_time": "2024-12-07T20:32:00.986465Z"
    }
   }
  },
  {
   "cell_type": "code",
   "execution_count": 77,
   "outputs": [
    {
     "data": {
      "text/plain": "SolarRad        8.785714\nSolarEnergy     0.377857\nHiSolarRad     12.928571\ndtype: float64"
     },
     "execution_count": 77,
     "metadata": {},
     "output_type": "execute_result"
    }
   ],
   "source": [
    "weather[(weather['Site']=='Easthill Road') & (weather['Date']==datetime(2014, 7, 19)) & ((weather['SolarRad'] != '---') & (weather['HiSolarRad']!= '---') & (weather['SolarEnergy']!='---'))].agg({'SolarRad': 'mean', 'SolarEnergy': 'mean', 'HiSolarRad': 'mean'})"
   ],
   "metadata": {
    "collapsed": false,
    "ExecuteTime": {
     "end_time": "2024-12-07T20:32:02.513710Z",
     "start_time": "2024-12-07T20:32:02.487413Z"
    }
   }
  },
  {
   "cell_type": "code",
   "execution_count": 78,
   "outputs": [],
   "source": [
    "weather.loc[(weather['Site']=='Easthill Road') & (weather['Date']==datetime(2014, 7, 19)) & (weather['SolarRad'] == '---'), 'SolarRad'] = 8.785714\n",
    "weather.loc[(weather['Site']=='Easthill Road') & (weather['Date']==datetime(2014, 7, 19)) & (weather['SolarEnergy'] == '---'), 'SolarEnergy'] = 0.377857\n",
    "weather.loc[(weather['Site']=='Easthill Road') & (weather['Date']==datetime(2014, 7, 19)) & (weather['HiSolarRad'] == '---'), 'HiSolarRad'] = 12.928571"
   ],
   "metadata": {
    "collapsed": false,
    "ExecuteTime": {
     "end_time": "2024-12-07T20:32:05.143479Z",
     "start_time": "2024-12-07T20:32:05.114920Z"
    }
   }
  },
  {
   "cell_type": "code",
   "execution_count": 79,
   "outputs": [],
   "source": [
    "# Due to the '---' as nans, many columns are not numeric.\n",
    "weather['TempOut'] = pd.to_numeric(weather['TempOut'])\n",
    "weather['HiTemp'] = pd.to_numeric(weather['HiTemp'])\n",
    "weather['LowTemp'] = pd.to_numeric(weather['LowTemp'])\n",
    "weather['OutHum'] = pd.to_numeric(weather['OutHum'])\n",
    "weather['DewPt'] = pd.to_numeric(weather['DewPt'])\n",
    "weather['WindChill'] = pd.to_numeric(weather['WindChill'])\n",
    "weather['HeatIndex'] = pd.to_numeric(weather['HeatIndex'])\n",
    "weather['THWIndex'] = pd.to_numeric(weather['THWIndex'])\n",
    "weather['SolarRad'] = pd.to_numeric(weather['SolarRad'])\n",
    "weather['SolarEnergy'] = pd.to_numeric(weather['SolarEnergy'])\n",
    "weather['HiSolarRad'] = pd.to_numeric(weather['HiSolarRad'])\n",
    "weather['HeatD-D'] = pd.to_numeric(weather['HeatD-D'])\n",
    "weather['CoolD-D'] = pd.to_numeric(weather['CoolD-D'])"
   ],
   "metadata": {
    "collapsed": false,
    "ExecuteTime": {
     "end_time": "2024-12-07T20:32:08.147438Z",
     "start_time": "2024-12-07T20:32:08.013847Z"
    }
   }
  },
  {
   "cell_type": "code",
   "execution_count": 80,
   "outputs": [],
   "source": [
    "weather_agg = weather.groupby(['Site', 'Date']).agg('mean')"
   ],
   "metadata": {
    "collapsed": false,
    "ExecuteTime": {
     "end_time": "2024-12-07T20:32:13.580129Z",
     "start_time": "2024-12-07T20:32:13.542326Z"
    }
   }
  },
  {
   "cell_type": "code",
   "execution_count": 81,
   "outputs": [],
   "source": [
    "weather_agg.reset_index(inplace=True)"
   ],
   "metadata": {
    "collapsed": false,
    "ExecuteTime": {
     "end_time": "2024-12-07T20:32:15.781486Z",
     "start_time": "2024-12-07T20:32:15.772940Z"
    }
   }
  },
  {
   "cell_type": "code",
   "execution_count": 82,
   "outputs": [
    {
     "data": {
      "text/plain": "               Site       Date    TempOut     HiTemp    LowTemp     OutHum  \\\n0     Easthill Road 2014-01-08   8.422222   8.444444   8.255556  93.444444   \n1     Easthill Road 2014-01-09   7.516667   7.704167   7.443750  89.875000   \n2     Easthill Road 2014-01-10   4.975000   5.056250   4.812500  90.729167   \n3     Easthill Road 2014-01-11   5.152083   5.354167   5.085417  90.229167   \n4     Easthill Road 2014-01-12   2.318750   2.427083   2.100000  91.479167   \n...             ...        ...        ...        ...        ...        ...   \n1423           YMCA 2014-11-26   8.822917   8.845833   8.718750  96.895833   \n1424           YMCA 2014-11-27  10.489583  10.572917  10.414583  94.937500   \n1425           YMCA 2014-11-28  10.531250  10.641667  10.422917  91.729167   \n1426           YMCA 2014-11-29   9.314583   9.564583   9.162500  89.375000   \n1427           YMCA 2014-11-30   7.572500   7.657500   7.375000  94.625000   \n\n         DewPt  WindSpeed    WindDir   WindRun  ...      InHum     InDew  \\\n0     7.400000   0.333333   2.666667  0.166667  ...  62.555556  4.833333   \n1     5.954167   0.979167   9.354167  0.489583  ...  60.354167  3.929167   \n2     3.570833   0.000000  13.291667  0.000000  ...  59.104167  1.372917   \n3     3.658333   0.270833  10.333333  0.135417  ...  58.833333  1.810417   \n4     1.039583   0.145833   1.979167  0.072917  ...  59.125000 -1.087500   \n...        ...        ...        ...       ...  ...        ...       ...   \n1423  8.350000   0.125000   5.729167  0.062500  ...  52.375000  6.622917   \n1424  9.704167   1.791667  14.729167  0.895833  ...  53.229167  8.220833   \n1425  9.235417   0.125000   1.833333  0.062500  ...  51.291667  8.258333   \n1426  7.612500   0.000000   0.000000  0.000000  ...  49.500000  7.110417   \n1427  6.745000   0.150000   0.775000  0.075000  ...  50.600000  5.337500   \n\n         InHeat      InEMC  InAirDensity        ET    WindSamp    WindTx  \\\n0     11.200000  11.653333      0.076011  0.000000  659.222222  1.000000   \n1     10.789583  11.263125      0.075750  0.005208  702.437500  1.000000   \n2      8.443750  10.978750      0.077200  0.004167  702.416667  1.000000   \n3      8.983333  10.946250      0.077352  0.003542  702.437500  1.000000   \n4      5.868750  11.081458      0.078375  0.003125  702.416667  1.000000   \n...         ...        ...           ...       ...         ...       ...   \n1423  15.466667   9.832083      0.074563  0.000625  701.937500  1.083333   \n1424  17.064583   9.988958      0.073560  0.005000  702.062500  1.000000   \n1425  17.664583   9.598542      0.073417  0.006458  702.145833  1.208333   \n1426  16.995833   9.312083      0.074173  0.010625  702.125000  1.000000   \n1427  14.547500   9.545750      0.075055  0.003750  701.800000  1.050000   \n\n       ISSRecept  ArcInt  \n0      93.988889    30.0  \n1     100.000000    30.0  \n2     100.000000    30.0  \n3     100.000000    30.0  \n4     100.000000    30.0  \n...          ...     ...  \n1423  100.000000    30.0  \n1424  100.000000    30.0  \n1425  100.000000    30.0  \n1426  100.000000    30.0  \n1427  100.000000    30.0  \n\n[1428 rows x 34 columns]",
      "text/html": "<div>\n<style scoped>\n    .dataframe tbody tr th:only-of-type {\n        vertical-align: middle;\n    }\n\n    .dataframe tbody tr th {\n        vertical-align: top;\n    }\n\n    .dataframe thead th {\n        text-align: right;\n    }\n</style>\n<table border=\"1\" class=\"dataframe\">\n  <thead>\n    <tr style=\"text-align: right;\">\n      <th></th>\n      <th>Site</th>\n      <th>Date</th>\n      <th>TempOut</th>\n      <th>HiTemp</th>\n      <th>LowTemp</th>\n      <th>OutHum</th>\n      <th>DewPt</th>\n      <th>WindSpeed</th>\n      <th>WindDir</th>\n      <th>WindRun</th>\n      <th>...</th>\n      <th>InHum</th>\n      <th>InDew</th>\n      <th>InHeat</th>\n      <th>InEMC</th>\n      <th>InAirDensity</th>\n      <th>ET</th>\n      <th>WindSamp</th>\n      <th>WindTx</th>\n      <th>ISSRecept</th>\n      <th>ArcInt</th>\n    </tr>\n  </thead>\n  <tbody>\n    <tr>\n      <th>0</th>\n      <td>Easthill Road</td>\n      <td>2014-01-08</td>\n      <td>8.422222</td>\n      <td>8.444444</td>\n      <td>8.255556</td>\n      <td>93.444444</td>\n      <td>7.400000</td>\n      <td>0.333333</td>\n      <td>2.666667</td>\n      <td>0.166667</td>\n      <td>...</td>\n      <td>62.555556</td>\n      <td>4.833333</td>\n      <td>11.200000</td>\n      <td>11.653333</td>\n      <td>0.076011</td>\n      <td>0.000000</td>\n      <td>659.222222</td>\n      <td>1.000000</td>\n      <td>93.988889</td>\n      <td>30.0</td>\n    </tr>\n    <tr>\n      <th>1</th>\n      <td>Easthill Road</td>\n      <td>2014-01-09</td>\n      <td>7.516667</td>\n      <td>7.704167</td>\n      <td>7.443750</td>\n      <td>89.875000</td>\n      <td>5.954167</td>\n      <td>0.979167</td>\n      <td>9.354167</td>\n      <td>0.489583</td>\n      <td>...</td>\n      <td>60.354167</td>\n      <td>3.929167</td>\n      <td>10.789583</td>\n      <td>11.263125</td>\n      <td>0.075750</td>\n      <td>0.005208</td>\n      <td>702.437500</td>\n      <td>1.000000</td>\n      <td>100.000000</td>\n      <td>30.0</td>\n    </tr>\n    <tr>\n      <th>2</th>\n      <td>Easthill Road</td>\n      <td>2014-01-10</td>\n      <td>4.975000</td>\n      <td>5.056250</td>\n      <td>4.812500</td>\n      <td>90.729167</td>\n      <td>3.570833</td>\n      <td>0.000000</td>\n      <td>13.291667</td>\n      <td>0.000000</td>\n      <td>...</td>\n      <td>59.104167</td>\n      <td>1.372917</td>\n      <td>8.443750</td>\n      <td>10.978750</td>\n      <td>0.077200</td>\n      <td>0.004167</td>\n      <td>702.416667</td>\n      <td>1.000000</td>\n      <td>100.000000</td>\n      <td>30.0</td>\n    </tr>\n    <tr>\n      <th>3</th>\n      <td>Easthill Road</td>\n      <td>2014-01-11</td>\n      <td>5.152083</td>\n      <td>5.354167</td>\n      <td>5.085417</td>\n      <td>90.229167</td>\n      <td>3.658333</td>\n      <td>0.270833</td>\n      <td>10.333333</td>\n      <td>0.135417</td>\n      <td>...</td>\n      <td>58.833333</td>\n      <td>1.810417</td>\n      <td>8.983333</td>\n      <td>10.946250</td>\n      <td>0.077352</td>\n      <td>0.003542</td>\n      <td>702.437500</td>\n      <td>1.000000</td>\n      <td>100.000000</td>\n      <td>30.0</td>\n    </tr>\n    <tr>\n      <th>4</th>\n      <td>Easthill Road</td>\n      <td>2014-01-12</td>\n      <td>2.318750</td>\n      <td>2.427083</td>\n      <td>2.100000</td>\n      <td>91.479167</td>\n      <td>1.039583</td>\n      <td>0.145833</td>\n      <td>1.979167</td>\n      <td>0.072917</td>\n      <td>...</td>\n      <td>59.125000</td>\n      <td>-1.087500</td>\n      <td>5.868750</td>\n      <td>11.081458</td>\n      <td>0.078375</td>\n      <td>0.003125</td>\n      <td>702.416667</td>\n      <td>1.000000</td>\n      <td>100.000000</td>\n      <td>30.0</td>\n    </tr>\n    <tr>\n      <th>...</th>\n      <td>...</td>\n      <td>...</td>\n      <td>...</td>\n      <td>...</td>\n      <td>...</td>\n      <td>...</td>\n      <td>...</td>\n      <td>...</td>\n      <td>...</td>\n      <td>...</td>\n      <td>...</td>\n      <td>...</td>\n      <td>...</td>\n      <td>...</td>\n      <td>...</td>\n      <td>...</td>\n      <td>...</td>\n      <td>...</td>\n      <td>...</td>\n      <td>...</td>\n      <td>...</td>\n    </tr>\n    <tr>\n      <th>1423</th>\n      <td>YMCA</td>\n      <td>2014-11-26</td>\n      <td>8.822917</td>\n      <td>8.845833</td>\n      <td>8.718750</td>\n      <td>96.895833</td>\n      <td>8.350000</td>\n      <td>0.125000</td>\n      <td>5.729167</td>\n      <td>0.062500</td>\n      <td>...</td>\n      <td>52.375000</td>\n      <td>6.622917</td>\n      <td>15.466667</td>\n      <td>9.832083</td>\n      <td>0.074563</td>\n      <td>0.000625</td>\n      <td>701.937500</td>\n      <td>1.083333</td>\n      <td>100.000000</td>\n      <td>30.0</td>\n    </tr>\n    <tr>\n      <th>1424</th>\n      <td>YMCA</td>\n      <td>2014-11-27</td>\n      <td>10.489583</td>\n      <td>10.572917</td>\n      <td>10.414583</td>\n      <td>94.937500</td>\n      <td>9.704167</td>\n      <td>1.791667</td>\n      <td>14.729167</td>\n      <td>0.895833</td>\n      <td>...</td>\n      <td>53.229167</td>\n      <td>8.220833</td>\n      <td>17.064583</td>\n      <td>9.988958</td>\n      <td>0.073560</td>\n      <td>0.005000</td>\n      <td>702.062500</td>\n      <td>1.000000</td>\n      <td>100.000000</td>\n      <td>30.0</td>\n    </tr>\n    <tr>\n      <th>1425</th>\n      <td>YMCA</td>\n      <td>2014-11-28</td>\n      <td>10.531250</td>\n      <td>10.641667</td>\n      <td>10.422917</td>\n      <td>91.729167</td>\n      <td>9.235417</td>\n      <td>0.125000</td>\n      <td>1.833333</td>\n      <td>0.062500</td>\n      <td>...</td>\n      <td>51.291667</td>\n      <td>8.258333</td>\n      <td>17.664583</td>\n      <td>9.598542</td>\n      <td>0.073417</td>\n      <td>0.006458</td>\n      <td>702.145833</td>\n      <td>1.208333</td>\n      <td>100.000000</td>\n      <td>30.0</td>\n    </tr>\n    <tr>\n      <th>1426</th>\n      <td>YMCA</td>\n      <td>2014-11-29</td>\n      <td>9.314583</td>\n      <td>9.564583</td>\n      <td>9.162500</td>\n      <td>89.375000</td>\n      <td>7.612500</td>\n      <td>0.000000</td>\n      <td>0.000000</td>\n      <td>0.000000</td>\n      <td>...</td>\n      <td>49.500000</td>\n      <td>7.110417</td>\n      <td>16.995833</td>\n      <td>9.312083</td>\n      <td>0.074173</td>\n      <td>0.010625</td>\n      <td>702.125000</td>\n      <td>1.000000</td>\n      <td>100.000000</td>\n      <td>30.0</td>\n    </tr>\n    <tr>\n      <th>1427</th>\n      <td>YMCA</td>\n      <td>2014-11-30</td>\n      <td>7.572500</td>\n      <td>7.657500</td>\n      <td>7.375000</td>\n      <td>94.625000</td>\n      <td>6.745000</td>\n      <td>0.150000</td>\n      <td>0.775000</td>\n      <td>0.075000</td>\n      <td>...</td>\n      <td>50.600000</td>\n      <td>5.337500</td>\n      <td>14.547500</td>\n      <td>9.545750</td>\n      <td>0.075055</td>\n      <td>0.003750</td>\n      <td>701.800000</td>\n      <td>1.050000</td>\n      <td>100.000000</td>\n      <td>30.0</td>\n    </tr>\n  </tbody>\n</table>\n<p>1428 rows × 34 columns</p>\n</div>"
     },
     "execution_count": 82,
     "metadata": {},
     "output_type": "execute_result"
    }
   ],
   "source": [
    "weather_agg"
   ],
   "metadata": {
    "collapsed": false,
    "ExecuteTime": {
     "end_time": "2024-12-07T20:32:16.499574Z",
     "start_time": "2024-12-07T20:32:16.486708Z"
    }
   }
  },
  {
   "cell_type": "code",
   "execution_count": 83,
   "outputs": [],
   "source": [
    "# save features\n",
    "weather_agg.to_csv('weather.csv')"
   ],
   "metadata": {
    "collapsed": false,
    "ExecuteTime": {
     "end_time": "2024-12-07T20:32:38.960083Z",
     "start_time": "2024-12-07T20:32:38.902287Z"
    }
   }
  },
  {
   "cell_type": "code",
   "execution_count": null,
   "outputs": [],
   "source": [],
   "metadata": {
    "collapsed": false
   }
  }
 ],
 "metadata": {
  "kernelspec": {
   "display_name": "Python 3",
   "language": "python",
   "name": "python3"
  },
  "language_info": {
   "codemirror_mode": {
    "name": "ipython",
    "version": 2
   },
   "file_extension": ".py",
   "mimetype": "text/x-python",
   "name": "python",
   "nbconvert_exporter": "python",
   "pygments_lexer": "ipython2",
   "version": "2.7.6"
  }
 },
 "nbformat": 4,
 "nbformat_minor": 0
}
