{
 "cells": [
  {
   "cell_type": "code",
   "execution_count": 70,
   "metadata": {
    "collapsed": true,
    "ExecuteTime": {
     "end_time": "2024-12-08T03:09:51.314294Z",
     "start_time": "2024-12-08T03:09:51.308041Z"
    }
   },
   "outputs": [],
   "source": [
    "import pandas as pd"
   ]
  },
  {
   "cell_type": "code",
   "execution_count": 71,
   "outputs": [],
   "source": [
    "df = pd.read_csv('SolarEurope100.csv')"
   ],
   "metadata": {
    "collapsed": false,
    "ExecuteTime": {
     "end_time": "2024-12-08T03:09:51.631588Z",
     "start_time": "2024-12-08T03:09:51.620729Z"
    }
   }
  },
  {
   "cell_type": "code",
   "execution_count": 72,
   "outputs": [
    {
     "data": {
      "text/plain": "            'LAT'       'LON'        'DNI'        'GHI'       'DIF'  \\\ncount  158.000000  158.000000   158.000000   158.000000  158.000000   \nmean    50.829651   15.454465  1047.528481  1132.032911  563.576582   \nstd      2.789739    8.744893   136.634270    97.230582   21.054165   \nmin     45.080400    3.122300   845.300000  1015.400000  489.300000   \n25%     48.735275    7.622325   956.900000  1060.550000  551.650000   \n50%     51.328600   12.794150  1010.700000  1099.650000  562.700000   \n75%     53.132475   24.501150  1096.250000  1173.000000  577.475000   \nmax     54.990600   29.971100  1671.400000  1450.100000  623.800000   \n\n         'GTIopta'      'OPTA'  'OPTA2'      'TEMP'        'ELE'  \\\ncount   158.000000  158.000000    158.0  158.000000   158.000000   \nmean   1335.567722   37.164557    180.0    9.050633   269.278481   \nstd     120.277089    1.353743      0.0    2.202394   446.774596   \nmin    1152.500000   35.000000    180.0   -5.600000  -100.000000   \n25%    1249.025000   36.000000    180.0    8.425000    59.500000   \n50%    1299.200000   37.000000    180.0    9.400000   163.000000   \n75%    1369.225000   38.000000    180.0   10.275000   255.500000   \nmax    1814.100000   44.000000    180.0   12.500000  3170.000000   \n\n       'TOTALPVOutput'  'GTIAnnualAverage'  \ncount       158.000000          158.000000  \nmean        119.314025         1333.498734  \nstd         320.805601          117.747174  \nmin           1.001000         1185.000000  \n25%           1.033250         1249.075000  \n50%           1.072000         1299.550000  \n75%           1.179500         1361.825000  \nmax         999.479000         1795.700000  ",
      "text/html": "<div>\n<style scoped>\n    .dataframe tbody tr th:only-of-type {\n        vertical-align: middle;\n    }\n\n    .dataframe tbody tr th {\n        vertical-align: top;\n    }\n\n    .dataframe thead th {\n        text-align: right;\n    }\n</style>\n<table border=\"1\" class=\"dataframe\">\n  <thead>\n    <tr style=\"text-align: right;\">\n      <th></th>\n      <th>'LAT'</th>\n      <th>'LON'</th>\n      <th>'DNI'</th>\n      <th>'GHI'</th>\n      <th>'DIF'</th>\n      <th>'GTIopta'</th>\n      <th>'OPTA'</th>\n      <th>'OPTA2'</th>\n      <th>'TEMP'</th>\n      <th>'ELE'</th>\n      <th>'TOTALPVOutput'</th>\n      <th>'GTIAnnualAverage'</th>\n    </tr>\n  </thead>\n  <tbody>\n    <tr>\n      <th>count</th>\n      <td>158.000000</td>\n      <td>158.000000</td>\n      <td>158.000000</td>\n      <td>158.000000</td>\n      <td>158.000000</td>\n      <td>158.000000</td>\n      <td>158.000000</td>\n      <td>158.0</td>\n      <td>158.000000</td>\n      <td>158.000000</td>\n      <td>158.000000</td>\n      <td>158.000000</td>\n    </tr>\n    <tr>\n      <th>mean</th>\n      <td>50.829651</td>\n      <td>15.454465</td>\n      <td>1047.528481</td>\n      <td>1132.032911</td>\n      <td>563.576582</td>\n      <td>1335.567722</td>\n      <td>37.164557</td>\n      <td>180.0</td>\n      <td>9.050633</td>\n      <td>269.278481</td>\n      <td>119.314025</td>\n      <td>1333.498734</td>\n    </tr>\n    <tr>\n      <th>std</th>\n      <td>2.789739</td>\n      <td>8.744893</td>\n      <td>136.634270</td>\n      <td>97.230582</td>\n      <td>21.054165</td>\n      <td>120.277089</td>\n      <td>1.353743</td>\n      <td>0.0</td>\n      <td>2.202394</td>\n      <td>446.774596</td>\n      <td>320.805601</td>\n      <td>117.747174</td>\n    </tr>\n    <tr>\n      <th>min</th>\n      <td>45.080400</td>\n      <td>3.122300</td>\n      <td>845.300000</td>\n      <td>1015.400000</td>\n      <td>489.300000</td>\n      <td>1152.500000</td>\n      <td>35.000000</td>\n      <td>180.0</td>\n      <td>-5.600000</td>\n      <td>-100.000000</td>\n      <td>1.001000</td>\n      <td>1185.000000</td>\n    </tr>\n    <tr>\n      <th>25%</th>\n      <td>48.735275</td>\n      <td>7.622325</td>\n      <td>956.900000</td>\n      <td>1060.550000</td>\n      <td>551.650000</td>\n      <td>1249.025000</td>\n      <td>36.000000</td>\n      <td>180.0</td>\n      <td>8.425000</td>\n      <td>59.500000</td>\n      <td>1.033250</td>\n      <td>1249.075000</td>\n    </tr>\n    <tr>\n      <th>50%</th>\n      <td>51.328600</td>\n      <td>12.794150</td>\n      <td>1010.700000</td>\n      <td>1099.650000</td>\n      <td>562.700000</td>\n      <td>1299.200000</td>\n      <td>37.000000</td>\n      <td>180.0</td>\n      <td>9.400000</td>\n      <td>163.000000</td>\n      <td>1.072000</td>\n      <td>1299.550000</td>\n    </tr>\n    <tr>\n      <th>75%</th>\n      <td>53.132475</td>\n      <td>24.501150</td>\n      <td>1096.250000</td>\n      <td>1173.000000</td>\n      <td>577.475000</td>\n      <td>1369.225000</td>\n      <td>38.000000</td>\n      <td>180.0</td>\n      <td>10.275000</td>\n      <td>255.500000</td>\n      <td>1.179500</td>\n      <td>1361.825000</td>\n    </tr>\n    <tr>\n      <th>max</th>\n      <td>54.990600</td>\n      <td>29.971100</td>\n      <td>1671.400000</td>\n      <td>1450.100000</td>\n      <td>623.800000</td>\n      <td>1814.100000</td>\n      <td>44.000000</td>\n      <td>180.0</td>\n      <td>12.500000</td>\n      <td>3170.000000</td>\n      <td>999.479000</td>\n      <td>1795.700000</td>\n    </tr>\n  </tbody>\n</table>\n</div>"
     },
     "execution_count": 72,
     "metadata": {},
     "output_type": "execute_result"
    }
   ],
   "source": [
    "df.describe()"
   ],
   "metadata": {
    "collapsed": false,
    "ExecuteTime": {
     "end_time": "2024-12-08T03:09:51.801268Z",
     "start_time": "2024-12-08T03:09:51.776024Z"
    }
   }
  },
  {
   "cell_type": "code",
   "execution_count": 73,
   "outputs": [],
   "source": [
    "import matplotlib.pyplot as plt"
   ],
   "metadata": {
    "collapsed": false,
    "ExecuteTime": {
     "end_time": "2024-12-08T03:09:51.951436Z",
     "start_time": "2024-12-08T03:09:51.943074Z"
    }
   }
  },
  {
   "cell_type": "code",
   "execution_count": 74,
   "outputs": [],
   "source": [
    "columns = []\n",
    "for column in df.columns:\n",
    "    columns.append(column[1:-1])"
   ],
   "metadata": {
    "collapsed": false,
    "ExecuteTime": {
     "end_time": "2024-12-08T03:09:52.079300Z",
     "start_time": "2024-12-08T03:09:52.074201Z"
    }
   }
  },
  {
   "cell_type": "code",
   "execution_count": 75,
   "outputs": [],
   "source": [
    "df.columns = columns"
   ],
   "metadata": {
    "collapsed": false,
    "ExecuteTime": {
     "end_time": "2024-12-08T03:09:52.448125Z",
     "start_time": "2024-12-08T03:09:52.441709Z"
    }
   }
  },
  {
   "cell_type": "code",
   "execution_count": 76,
   "outputs": [
    {
     "data": {
      "text/plain": "<Figure size 640x480 with 1 Axes>",
      "image/png": "[encoded data removed]"
     },
     "metadata": {},
     "output_type": "display_data"
    }
   ],
   "source": [
    "plt.hist(df['TOTALPVOutput'])\n",
    "plt.show()"
   ],
   "metadata": {
    "collapsed": false,
    "ExecuteTime": {
     "end_time": "2024-12-08T03:09:52.893535Z",
     "start_time": "2024-12-08T03:09:52.813016Z"
    }
   }
  },
  {
   "cell_type": "markdown",
   "source": [
    "Outlier - but how much."
   ],
   "metadata": {
    "collapsed": false
   }
  },
  {
   "cell_type": "code",
   "execution_count": 77,
   "outputs": [
    {
     "data": {
      "text/plain": "         LAT      LON    DNI     GHI    DIF  GTIopta  OPTA  OPTA2  TEMP   ELE  \\\n2    52.0767   9.4480  904.8  1042.6  562.3   1227.2    37    180   9.4   182   \n5    45.9413   6.3587  949.5  1119.3  489.3   1204.6    39    180   4.0  1152   \n8    52.6218   7.6056  899.1  1031.7  566.3   1221.6    38    180  10.3    19   \n15   51.9686   9.8979  908.0  1044.3  560.8   1223.9    37    180   9.1   245   \n19   52.0280   6.9428  915.9  1048.2  569.2   1235.3    37    180  10.4    62   \n32   53.1352  10.0244  888.4  1015.4  557.0   1197.7    37    180   9.8    71   \n39   52.1119   5.3506  881.5  1028.2  571.8   1206.3    37    180  10.5    38   \n55   53.1164  10.0890  890.3  1016.0  555.9   1195.7    37    180   9.8    74   \n56   47.6952  15.3153  845.3  1054.3  554.7   1152.5    38    180   5.8  1162   \n57   51.1385   9.8420  876.0  1048.3  560.6   1220.4    36    180   8.9   384   \n59   53.1243   9.0192  903.6  1026.8  560.2   1216.0    38    180  10.1     3   \n66   54.4126  27.1333  943.1  1033.4  544.6   1225.2    38    180   6.9   176   \n68   53.2551  11.5950  926.1  1035.2  557.7   1227.9    38    180   9.8    30   \n70   54.6132  26.2631  951.6  1034.3  541.3   1229.9    38    180   7.1   142   \n83   49.8073   4.8402  926.0  1078.5  561.9   1248.2    35    180  10.1   246   \n90   54.5671  10.1077  941.9  1018.0  533.3   1210.6    37    180   9.5   -25   \n99   50.0102   7.7856  932.9  1095.6  569.7   1238.2    36    180   9.5   421   \n125  52.9900   9.3039  896.4  1022.7  559.2   1208.6    37    180  10.1    47   \n144  52.7645  10.3966  884.9  1018.4  557.7   1187.9    36    180   9.9   102   \n\n     TOTALPVOutput  GTIAnnualAverage  \n2          993.419            1222.6  \n5          952.666            1185.0  \n8          990.226            1222.0  \n15         993.342            1221.4  \n19         999.388            1233.7  \n32         971.162            1198.4  \n39         978.122            1205.2  \n55         968.923            1195.5  \n56         975.422            1200.3  \n57         991.028            1221.8  \n59         985.988            1216.3  \n66         995.491            1222.3  \n68         994.587            1227.8  \n70         999.479            1228.4  \n83         997.158            1234.3  \n90         986.546            1211.5  \n99         979.622            1213.5  \n125        980.836            1209.9  \n144        966.194            1192.9  ",
      "text/html": "<div>\n<style scoped>\n    .dataframe tbody tr th:only-of-type {\n        vertical-align: middle;\n    }\n\n    .dataframe tbody tr th {\n        vertical-align: top;\n    }\n\n    .dataframe thead th {\n        text-align: right;\n    }\n</style>\n<table border=\"1\" class=\"dataframe\">\n  <thead>\n    <tr style=\"text-align: right;\">\n      <th></th>\n      <th>LAT</th>\n      <th>LON</th>\n      <th>DNI</th>\n      <th>GHI</th>\n      <th>DIF</th>\n      <th>GTIopta</th>\n      <th>OPTA</th>\n      <th>OPTA2</th>\n      <th>TEMP</th>\n      <th>ELE</th>\n      <th>TOTALPVOutput</th>\n      <th>GTIAnnualAverage</th>\n    </tr>\n  </thead>\n  <tbody>\n    <tr>\n      <th>2</th>\n      <td>52.0767</td>\n      <td>9.4480</td>\n      <td>904.8</td>\n      <td>1042.6</td>\n      <td>562.3</td>\n      <td>1227.2</td>\n      <td>37</td>\n      <td>180</td>\n      <td>9.4</td>\n      <td>182</td>\n      <td>993.419</td>\n      <td>1222.6</td>\n    </tr>\n    <tr>\n      <th>5</th>\n      <td>45.9413</td>\n      <td>6.3587</td>\n      <td>949.5</td>\n      <td>1119.3</td>\n      <td>489.3</td>\n      <td>1204.6</td>\n      <td>39</td>\n      <td>180</td>\n      <td>4.0</td>\n      <td>1152</td>\n      <td>952.666</td>\n      <td>1185.0</td>\n    </tr>\n    <tr>\n      <th>8</th>\n      <td>52.6218</td>\n      <td>7.6056</td>\n      <td>899.1</td>\n      <td>1031.7</td>\n      <td>566.3</td>\n      <td>1221.6</td>\n      <td>38</td>\n      <td>180</td>\n      <td>10.3</td>\n      <td>19</td>\n      <td>990.226</td>\n      <td>1222.0</td>\n    </tr>\n    <tr>\n      <th>15</th>\n      <td>51.9686</td>\n      <td>9.8979</td>\n      <td>908.0</td>\n      <td>1044.3</td>\n      <td>560.8</td>\n      <td>1223.9</td>\n      <td>37</td>\n      <td>180</td>\n      <td>9.1</td>\n      <td>245</td>\n      <td>993.342</td>\n      <td>1221.4</td>\n    </tr>\n    <tr>\n      <th>19</th>\n      <td>52.0280</td>\n      <td>6.9428</td>\n      <td>915.9</td>\n      <td>1048.2</td>\n      <td>569.2</td>\n      <td>1235.3</td>\n      <td>37</td>\n      <td>180</td>\n      <td>10.4</td>\n      <td>62</td>\n      <td>999.388</td>\n      <td>1233.7</td>\n    </tr>\n    <tr>\n      <th>32</th>\n      <td>53.1352</td>\n      <td>10.0244</td>\n      <td>888.4</td>\n      <td>1015.4</td>\n      <td>557.0</td>\n      <td>1197.7</td>\n      <td>37</td>\n      <td>180</td>\n      <td>9.8</td>\n      <td>71</td>\n      <td>971.162</td>\n      <td>1198.4</td>\n    </tr>\n    <tr>\n      <th>39</th>\n      <td>52.1119</td>\n      <td>5.3506</td>\n      <td>881.5</td>\n      <td>1028.2</td>\n      <td>571.8</td>\n      <td>1206.3</td>\n      <td>37</td>\n      <td>180</td>\n      <td>10.5</td>\n      <td>38</td>\n      <td>978.122</td>\n      <td>1205.2</td>\n    </tr>\n    <tr>\n      <th>55</th>\n      <td>53.1164</td>\n      <td>10.0890</td>\n      <td>890.3</td>\n      <td>1016.0</td>\n      <td>555.9</td>\n      <td>1195.7</td>\n      <td>37</td>\n      <td>180</td>\n      <td>9.8</td>\n      <td>74</td>\n      <td>968.923</td>\n      <td>1195.5</td>\n    </tr>\n    <tr>\n      <th>56</th>\n      <td>47.6952</td>\n      <td>15.3153</td>\n      <td>845.3</td>\n      <td>1054.3</td>\n      <td>554.7</td>\n      <td>1152.5</td>\n      <td>38</td>\n      <td>180</td>\n      <td>5.8</td>\n      <td>1162</td>\n      <td>975.422</td>\n      <td>1200.3</td>\n    </tr>\n    <tr>\n      <th>57</th>\n      <td>51.1385</td>\n      <td>9.8420</td>\n      <td>876.0</td>\n      <td>1048.3</td>\n      <td>560.6</td>\n      <td>1220.4</td>\n      <td>36</td>\n      <td>180</td>\n      <td>8.9</td>\n      <td>384</td>\n      <td>991.028</td>\n      <td>1221.8</td>\n    </tr>\n    <tr>\n      <th>59</th>\n      <td>53.1243</td>\n      <td>9.0192</td>\n      <td>903.6</td>\n      <td>1026.8</td>\n      <td>560.2</td>\n      <td>1216.0</td>\n      <td>38</td>\n      <td>180</td>\n      <td>10.1</td>\n      <td>3</td>\n      <td>985.988</td>\n      <td>1216.3</td>\n    </tr>\n    <tr>\n      <th>66</th>\n      <td>54.4126</td>\n      <td>27.1333</td>\n      <td>943.1</td>\n      <td>1033.4</td>\n      <td>544.6</td>\n      <td>1225.2</td>\n      <td>38</td>\n      <td>180</td>\n      <td>6.9</td>\n      <td>176</td>\n      <td>995.491</td>\n      <td>1222.3</td>\n    </tr>\n    <tr>\n      <th>68</th>\n      <td>53.2551</td>\n      <td>11.5950</td>\n      <td>926.1</td>\n      <td>1035.2</td>\n      <td>557.7</td>\n      <td>1227.9</td>\n      <td>38</td>\n      <td>180</td>\n      <td>9.8</td>\n      <td>30</td>\n      <td>994.587</td>\n      <td>1227.8</td>\n    </tr>\n    <tr>\n      <th>70</th>\n      <td>54.6132</td>\n      <td>26.2631</td>\n      <td>951.6</td>\n      <td>1034.3</td>\n      <td>541.3</td>\n      <td>1229.9</td>\n      <td>38</td>\n      <td>180</td>\n      <td>7.1</td>\n      <td>142</td>\n      <td>999.479</td>\n      <td>1228.4</td>\n    </tr>\n    <tr>\n      <th>83</th>\n      <td>49.8073</td>\n      <td>4.8402</td>\n      <td>926.0</td>\n      <td>1078.5</td>\n      <td>561.9</td>\n      <td>1248.2</td>\n      <td>35</td>\n      <td>180</td>\n      <td>10.1</td>\n      <td>246</td>\n      <td>997.158</td>\n      <td>1234.3</td>\n    </tr>\n    <tr>\n      <th>90</th>\n      <td>54.5671</td>\n      <td>10.1077</td>\n      <td>941.9</td>\n      <td>1018.0</td>\n      <td>533.3</td>\n      <td>1210.6</td>\n      <td>37</td>\n      <td>180</td>\n      <td>9.5</td>\n      <td>-25</td>\n      <td>986.546</td>\n      <td>1211.5</td>\n    </tr>\n    <tr>\n      <th>99</th>\n      <td>50.0102</td>\n      <td>7.7856</td>\n      <td>932.9</td>\n      <td>1095.6</td>\n      <td>569.7</td>\n      <td>1238.2</td>\n      <td>36</td>\n      <td>180</td>\n      <td>9.5</td>\n      <td>421</td>\n      <td>979.622</td>\n      <td>1213.5</td>\n    </tr>\n    <tr>\n      <th>125</th>\n      <td>52.9900</td>\n      <td>9.3039</td>\n      <td>896.4</td>\n      <td>1022.7</td>\n      <td>559.2</td>\n      <td>1208.6</td>\n      <td>37</td>\n      <td>180</td>\n      <td>10.1</td>\n      <td>47</td>\n      <td>980.836</td>\n      <td>1209.9</td>\n    </tr>\n    <tr>\n      <th>144</th>\n      <td>52.7645</td>\n      <td>10.3966</td>\n      <td>884.9</td>\n      <td>1018.4</td>\n      <td>557.7</td>\n      <td>1187.9</td>\n      <td>36</td>\n      <td>180</td>\n      <td>9.9</td>\n      <td>102</td>\n      <td>966.194</td>\n      <td>1192.9</td>\n    </tr>\n  </tbody>\n</table>\n</div>"
     },
     "execution_count": 77,
     "metadata": {},
     "output_type": "execute_result"
    }
   ],
   "source": [
    "df[df['TOTALPVOutput'] > 200] # 19 seems big for this dataset - let's not use that as target"
   ],
   "metadata": {
    "collapsed": false,
    "ExecuteTime": {
     "end_time": "2024-12-08T03:09:53.657192Z",
     "start_time": "2024-12-08T03:09:53.650662Z"
    }
   }
  },
  {
   "cell_type": "code",
   "execution_count": 78,
   "outputs": [
    {
     "data": {
      "text/plain": "<Figure size 640x480 with 1 Axes>",
      "image/png": "[encoded data removed]"
     },
     "metadata": {},
     "output_type": "display_data"
    }
   ],
   "source": [
    "plt.hist(df['GTIAnnualAverage'])\n",
    "plt.show()"
   ],
   "metadata": {
    "collapsed": false,
    "ExecuteTime": {
     "end_time": "2024-12-08T03:09:54.216984Z",
     "start_time": "2024-12-08T03:09:54.139115Z"
    }
   }
  },
  {
   "cell_type": "markdown",
   "source": [
    "Better - let's use that"
   ],
   "metadata": {
    "collapsed": false
   }
  },
  {
   "cell_type": "code",
   "execution_count": 79,
   "outputs": [
    {
     "data": {
      "text/plain": "                       LAT       LON       DNI       GHI       DIF   GTIopta  \\\nLAT               1.000000  0.082278 -0.744166 -0.884863 -0.494610 -0.814011   \nLON               0.082278  1.000000  0.054977  0.059713  0.163605  0.051015   \nDNI              -0.744166  0.054977  1.000000  0.954166  0.199126  0.984524   \nGHI              -0.884863  0.059713  0.954166  1.000000  0.398090  0.982866   \nDIF              -0.494610  0.163605  0.199126  0.398090  1.000000  0.316162   \nGTIopta          -0.814011  0.051015  0.984524  0.982866  0.316162  1.000000   \nOPTA              0.121848  0.022191  0.149331 -0.032928 -0.531865  0.084192   \nOPTA2                  NaN       NaN       NaN       NaN       NaN       NaN   \nTEMP              0.110762 -0.200505 -0.266124 -0.141730  0.485295 -0.206794   \nELE              -0.561475 -0.126061  0.561585  0.514642 -0.198733  0.546764   \nTOTALPVOutput     0.152770 -0.191713 -0.376327 -0.340767 -0.159797 -0.372138   \nGTIAnnualAverage -0.811842  0.055455  0.982015  0.980528  0.318970  0.997904   \n\n                      OPTA  OPTA2      TEMP       ELE  TOTALPVOutput  \\\nLAT               0.121848    NaN  0.110762 -0.561475       0.152770   \nLON               0.022191    NaN -0.200505 -0.126061      -0.191713   \nDNI               0.149331    NaN -0.266124  0.561585      -0.376327   \nGHI              -0.032928    NaN -0.141730  0.514642      -0.340767   \nDIF              -0.531865    NaN  0.485295 -0.198733      -0.159797   \nGTIopta           0.084192    NaN -0.206794  0.546764      -0.372138   \nOPTA              1.000000    NaN -0.690071  0.515149      -0.002329   \nOPTA2                  NaN    NaN       NaN       NaN            NaN   \nTEMP             -0.690071    NaN  1.000000 -0.831635      -0.007366   \nELE               0.515149    NaN -0.831635  1.000000      -0.027061   \nTOTALPVOutput    -0.002329    NaN -0.007366 -0.027061       1.000000   \nGTIAnnualAverage  0.083899    NaN -0.201141  0.544768      -0.376109   \n\n                  GTIAnnualAverage  \nLAT                      -0.811842  \nLON                       0.055455  \nDNI                       0.982015  \nGHI                       0.980528  \nDIF                       0.318970  \nGTIopta                   0.997904  \nOPTA                      0.083899  \nOPTA2                          NaN  \nTEMP                     -0.201141  \nELE                       0.544768  \nTOTALPVOutput            -0.376109  \nGTIAnnualAverage          1.000000  ",
      "text/html": "<div>\n<style scoped>\n    .dataframe tbody tr th:only-of-type {\n        vertical-align: middle;\n    }\n\n    .dataframe tbody tr th {\n        vertical-align: top;\n    }\n\n    .dataframe thead th {\n        text-align: right;\n    }\n</style>\n<table border=\"1\" class=\"dataframe\">\n  <thead>\n    <tr style=\"text-align: right;\">\n      <th></th>\n      <th>LAT</th>\n      <th>LON</th>\n      <th>DNI</th>\n      <th>GHI</th>\n      <th>DIF</th>\n      <th>GTIopta</th>\n      <th>OPTA</th>\n      <th>OPTA2</th>\n      <th>TEMP</th>\n      <th>ELE</th>\n      <th>TOTALPVOutput</th>\n      <th>GTIAnnualAverage</th>\n    </tr>\n  </thead>\n  <tbody>\n    <tr>\n      <th>LAT</th>\n      <td>1.000000</td>\n      <td>0.082278</td>\n      <td>-0.744166</td>\n      <td>-0.884863</td>\n      <td>-0.494610</td>\n      <td>-0.814011</td>\n      <td>0.121848</td>\n      <td>NaN</td>\n      <td>0.110762</td>\n      <td>-0.561475</td>\n      <td>0.152770</td>\n      <td>-0.811842</td>\n    </tr>\n    <tr>\n      <th>LON</th>\n      <td>0.082278</td>\n      <td>1.000000</td>\n      <td>0.054977</td>\n      <td>0.059713</td>\n      <td>0.163605</td>\n      <td>0.051015</td>\n      <td>0.022191</td>\n      <td>NaN</td>\n      <td>-0.200505</td>\n      <td>-0.126061</td>\n      <td>-0.191713</td>\n      <td>0.055455</td>\n    </tr>\n    <tr>\n      <th>DNI</th>\n      <td>-0.744166</td>\n      <td>0.054977</td>\n      <td>1.000000</td>\n      <td>0.954166</td>\n      <td>0.199126</td>\n      <td>0.984524</td>\n      <td>0.149331</td>\n      <td>NaN</td>\n      <td>-0.266124</td>\n      <td>0.561585</td>\n      <td>-0.376327</td>\n      <td>0.982015</td>\n    </tr>\n    <tr>\n      <th>GHI</th>\n      <td>-0.884863</td>\n      <td>0.059713</td>\n      <td>0.954166</td>\n      <td>1.000000</td>\n      <td>0.398090</td>\n      <td>0.982866</td>\n      <td>-0.032928</td>\n      <td>NaN</td>\n      <td>-0.141730</td>\n      <td>0.514642</td>\n      <td>-0.340767</td>\n      <td>0.980528</td>\n    </tr>\n    <tr>\n      <th>DIF</th>\n      <td>-0.494610</td>\n      <td>0.163605</td>\n      <td>0.199126</td>\n      <td>0.398090</td>\n      <td>1.000000</td>\n      <td>0.316162</td>\n      <td>-0.531865</td>\n      <td>NaN</td>\n      <td>0.485295</td>\n      <td>-0.198733</td>\n      <td>-0.159797</td>\n      <td>0.318970</td>\n    </tr>\n    <tr>\n      <th>GTIopta</th>\n      <td>-0.814011</td>\n      <td>0.051015</td>\n      <td>0.984524</td>\n      <td>0.982866</td>\n      <td>0.316162</td>\n      <td>1.000000</td>\n      <td>0.084192</td>\n      <td>NaN</td>\n      <td>-0.206794</td>\n      <td>0.546764</td>\n      <td>-0.372138</td>\n      <td>0.997904</td>\n    </tr>\n    <tr>\n      <th>OPTA</th>\n      <td>0.121848</td>\n      <td>0.022191</td>\n      <td>0.149331</td>\n      <td>-0.032928</td>\n      <td>-0.531865</td>\n      <td>0.084192</td>\n      <td>1.000000</td>\n      <td>NaN</td>\n      <td>-0.690071</td>\n      <td>0.515149</td>\n      <td>-0.002329</td>\n      <td>0.083899</td>\n    </tr>\n    <tr>\n      <th>OPTA2</th>\n      <td>NaN</td>\n      <td>NaN</td>\n      <td>NaN</td>\n      <td>NaN</td>\n      <td>NaN</td>\n      <td>NaN</td>\n      <td>NaN</td>\n      <td>NaN</td>\n      <td>NaN</td>\n      <td>NaN</td>\n      <td>NaN</td>\n      <td>NaN</td>\n    </tr>\n    <tr>\n      <th>TEMP</th>\n      <td>0.110762</td>\n      <td>-0.200505</td>\n      <td>-0.266124</td>\n      <td>-0.141730</td>\n      <td>0.485295</td>\n      <td>-0.206794</td>\n      <td>-0.690071</td>\n      <td>NaN</td>\n      <td>1.000000</td>\n      <td>-0.831635</td>\n      <td>-0.007366</td>\n      <td>-0.201141</td>\n    </tr>\n    <tr>\n      <th>ELE</th>\n      <td>-0.561475</td>\n      <td>-0.126061</td>\n      <td>0.561585</td>\n      <td>0.514642</td>\n      <td>-0.198733</td>\n      <td>0.546764</td>\n      <td>0.515149</td>\n      <td>NaN</td>\n      <td>-0.831635</td>\n      <td>1.000000</td>\n      <td>-0.027061</td>\n      <td>0.544768</td>\n    </tr>\n    <tr>\n      <th>TOTALPVOutput</th>\n      <td>0.152770</td>\n      <td>-0.191713</td>\n      <td>-0.376327</td>\n      <td>-0.340767</td>\n      <td>-0.159797</td>\n      <td>-0.372138</td>\n      <td>-0.002329</td>\n      <td>NaN</td>\n      <td>-0.007366</td>\n      <td>-0.027061</td>\n      <td>1.000000</td>\n      <td>-0.376109</td>\n    </tr>\n    <tr>\n      <th>GTIAnnualAverage</th>\n      <td>-0.811842</td>\n      <td>0.055455</td>\n      <td>0.982015</td>\n      <td>0.980528</td>\n      <td>0.318970</td>\n      <td>0.997904</td>\n      <td>0.083899</td>\n      <td>NaN</td>\n      <td>-0.201141</td>\n      <td>0.544768</td>\n      <td>-0.376109</td>\n      <td>1.000000</td>\n    </tr>\n  </tbody>\n</table>\n</div>"
     },
     "execution_count": 79,
     "metadata": {},
     "output_type": "execute_result"
    }
   ],
   "source": [
    "df.corr()"
   ],
   "metadata": {
    "collapsed": false,
    "ExecuteTime": {
     "end_time": "2024-12-08T03:09:55.344839Z",
     "start_time": "2024-12-08T03:09:55.340718Z"
    }
   }
  },
  {
   "cell_type": "code",
   "execution_count": 80,
   "outputs": [
    {
     "data": {
      "text/plain": "array([180])"
     },
     "execution_count": 80,
     "metadata": {},
     "output_type": "execute_result"
    }
   ],
   "source": [
    "df['OPTA2'].unique() # drop it"
   ],
   "metadata": {
    "collapsed": false,
    "ExecuteTime": {
     "end_time": "2024-12-08T03:09:56.207730Z",
     "start_time": "2024-12-08T03:09:56.192881Z"
    }
   }
  },
  {
   "cell_type": "code",
   "execution_count": 81,
   "outputs": [],
   "source": [
    "df.drop('OPTA2', axis=1, inplace=True)"
   ],
   "metadata": {
    "collapsed": false,
    "ExecuteTime": {
     "end_time": "2024-12-08T03:09:57.055521Z",
     "start_time": "2024-12-08T03:09:57.040396Z"
    }
   }
  },
  {
   "cell_type": "code",
   "execution_count": 82,
   "outputs": [
    {
     "data": {
      "text/plain": "                       LAT       LON       DNI       GHI       DIF   GTIopta  \\\nLAT               1.000000  0.082278 -0.744166 -0.884863 -0.494610 -0.814011   \nLON               0.082278  1.000000  0.054977  0.059713  0.163605  0.051015   \nDNI              -0.744166  0.054977  1.000000  0.954166  0.199126  0.984524   \nGHI              -0.884863  0.059713  0.954166  1.000000  0.398090  0.982866   \nDIF              -0.494610  0.163605  0.199126  0.398090  1.000000  0.316162   \nGTIopta          -0.814011  0.051015  0.984524  0.982866  0.316162  1.000000   \nOPTA              0.121848  0.022191  0.149331 -0.032928 -0.531865  0.084192   \nTEMP              0.110762 -0.200505 -0.266124 -0.141730  0.485295 -0.206794   \nELE              -0.561475 -0.126061  0.561585  0.514642 -0.198733  0.546764   \nTOTALPVOutput     0.152770 -0.191713 -0.376327 -0.340767 -0.159797 -0.372138   \nGTIAnnualAverage -0.811842  0.055455  0.982015  0.980528  0.318970  0.997904   \n\n                      OPTA      TEMP       ELE  TOTALPVOutput  \\\nLAT               0.121848  0.110762 -0.561475       0.152770   \nLON               0.022191 -0.200505 -0.126061      -0.191713   \nDNI               0.149331 -0.266124  0.561585      -0.376327   \nGHI              -0.032928 -0.141730  0.514642      -0.340767   \nDIF              -0.531865  0.485295 -0.198733      -0.159797   \nGTIopta           0.084192 -0.206794  0.546764      -0.372138   \nOPTA              1.000000 -0.690071  0.515149      -0.002329   \nTEMP             -0.690071  1.000000 -0.831635      -0.007366   \nELE               0.515149 -0.831635  1.000000      -0.027061   \nTOTALPVOutput    -0.002329 -0.007366 -0.027061       1.000000   \nGTIAnnualAverage  0.083899 -0.201141  0.544768      -0.376109   \n\n                  GTIAnnualAverage  \nLAT                      -0.811842  \nLON                       0.055455  \nDNI                       0.982015  \nGHI                       0.980528  \nDIF                       0.318970  \nGTIopta                   0.997904  \nOPTA                      0.083899  \nTEMP                     -0.201141  \nELE                       0.544768  \nTOTALPVOutput            -0.376109  \nGTIAnnualAverage          1.000000  ",
      "text/html": "<div>\n<style scoped>\n    .dataframe tbody tr th:only-of-type {\n        vertical-align: middle;\n    }\n\n    .dataframe tbody tr th {\n        vertical-align: top;\n    }\n\n    .dataframe thead th {\n        text-align: right;\n    }\n</style>\n<table border=\"1\" class=\"dataframe\">\n  <thead>\n    <tr style=\"text-align: right;\">\n      <th></th>\n      <th>LAT</th>\n      <th>LON</th>\n      <th>DNI</th>\n      <th>GHI</th>\n      <th>DIF</th>\n      <th>GTIopta</th>\n      <th>OPTA</th>\n      <th>TEMP</th>\n      <th>ELE</th>\n      <th>TOTALPVOutput</th>\n      <th>GTIAnnualAverage</th>\n    </tr>\n  </thead>\n  <tbody>\n    <tr>\n      <th>LAT</th>\n      <td>1.000000</td>\n      <td>0.082278</td>\n      <td>-0.744166</td>\n      <td>-0.884863</td>\n      <td>-0.494610</td>\n      <td>-0.814011</td>\n      <td>0.121848</td>\n      <td>0.110762</td>\n      <td>-0.561475</td>\n      <td>0.152770</td>\n      <td>-0.811842</td>\n    </tr>\n    <tr>\n      <th>LON</th>\n      <td>0.082278</td>\n      <td>1.000000</td>\n      <td>0.054977</td>\n      <td>0.059713</td>\n      <td>0.163605</td>\n      <td>0.051015</td>\n      <td>0.022191</td>\n      <td>-0.200505</td>\n      <td>-0.126061</td>\n      <td>-0.191713</td>\n      <td>0.055455</td>\n    </tr>\n    <tr>\n      <th>DNI</th>\n      <td>-0.744166</td>\n      <td>0.054977</td>\n      <td>1.000000</td>\n      <td>0.954166</td>\n      <td>0.199126</td>\n      <td>0.984524</td>\n      <td>0.149331</td>\n      <td>-0.266124</td>\n      <td>0.561585</td>\n      <td>-0.376327</td>\n      <td>0.982015</td>\n    </tr>\n    <tr>\n      <th>GHI</th>\n      <td>-0.884863</td>\n      <td>0.059713</td>\n      <td>0.954166</td>\n      <td>1.000000</td>\n      <td>0.398090</td>\n      <td>0.982866</td>\n      <td>-0.032928</td>\n      <td>-0.141730</td>\n      <td>0.514642</td>\n      <td>-0.340767</td>\n      <td>0.980528</td>\n    </tr>\n    <tr>\n      <th>DIF</th>\n      <td>-0.494610</td>\n      <td>0.163605</td>\n      <td>0.199126</td>\n      <td>0.398090</td>\n      <td>1.000000</td>\n      <td>0.316162</td>\n      <td>-0.531865</td>\n      <td>0.485295</td>\n      <td>-0.198733</td>\n      <td>-0.159797</td>\n      <td>0.318970</td>\n    </tr>\n    <tr>\n      <th>GTIopta</th>\n      <td>-0.814011</td>\n      <td>0.051015</td>\n      <td>0.984524</td>\n      <td>0.982866</td>\n      <td>0.316162</td>\n      <td>1.000000</td>\n      <td>0.084192</td>\n      <td>-0.206794</td>\n      <td>0.546764</td>\n      <td>-0.372138</td>\n      <td>0.997904</td>\n    </tr>\n    <tr>\n      <th>OPTA</th>\n      <td>0.121848</td>\n      <td>0.022191</td>\n      <td>0.149331</td>\n      <td>-0.032928</td>\n      <td>-0.531865</td>\n      <td>0.084192</td>\n      <td>1.000000</td>\n      <td>-0.690071</td>\n      <td>0.515149</td>\n      <td>-0.002329</td>\n      <td>0.083899</td>\n    </tr>\n    <tr>\n      <th>TEMP</th>\n      <td>0.110762</td>\n      <td>-0.200505</td>\n      <td>-0.266124</td>\n      <td>-0.141730</td>\n      <td>0.485295</td>\n      <td>-0.206794</td>\n      <td>-0.690071</td>\n      <td>1.000000</td>\n      <td>-0.831635</td>\n      <td>-0.007366</td>\n      <td>-0.201141</td>\n    </tr>\n    <tr>\n      <th>ELE</th>\n      <td>-0.561475</td>\n      <td>-0.126061</td>\n      <td>0.561585</td>\n      <td>0.514642</td>\n      <td>-0.198733</td>\n      <td>0.546764</td>\n      <td>0.515149</td>\n      <td>-0.831635</td>\n      <td>1.000000</td>\n      <td>-0.027061</td>\n      <td>0.544768</td>\n    </tr>\n    <tr>\n      <th>TOTALPVOutput</th>\n      <td>0.152770</td>\n      <td>-0.191713</td>\n      <td>-0.376327</td>\n      <td>-0.340767</td>\n      <td>-0.159797</td>\n      <td>-0.372138</td>\n      <td>-0.002329</td>\n      <td>-0.007366</td>\n      <td>-0.027061</td>\n      <td>1.000000</td>\n      <td>-0.376109</td>\n    </tr>\n    <tr>\n      <th>GTIAnnualAverage</th>\n      <td>-0.811842</td>\n      <td>0.055455</td>\n      <td>0.982015</td>\n      <td>0.980528</td>\n      <td>0.318970</td>\n      <td>0.997904</td>\n      <td>0.083899</td>\n      <td>-0.201141</td>\n      <td>0.544768</td>\n      <td>-0.376109</td>\n      <td>1.000000</td>\n    </tr>\n  </tbody>\n</table>\n</div>"
     },
     "execution_count": 82,
     "metadata": {},
     "output_type": "execute_result"
    }
   ],
   "source": [
    "df.corr()"
   ],
   "metadata": {
    "collapsed": false,
    "ExecuteTime": {
     "end_time": "2024-12-08T03:09:57.729352Z",
     "start_time": "2024-12-08T03:09:57.723174Z"
    }
   }
  },
  {
   "cell_type": "code",
   "execution_count": 83,
   "outputs": [],
   "source": [
    "# Well we can do GTIAnnualAverage with one feature\n",
    "from sklearn.model_selection import train_test_split\n",
    "from sklearn.preprocessing import MinMaxScaler"
   ],
   "metadata": {
    "collapsed": false,
    "ExecuteTime": {
     "end_time": "2024-12-08T03:09:58.597038Z",
     "start_time": "2024-12-08T03:09:58.583624Z"
    }
   }
  },
  {
   "cell_type": "code",
   "execution_count": 96,
   "outputs": [],
   "source": [
    "y = df[['GTIAnnualAverage']]\n",
    "x = df[['DNI']]"
   ],
   "metadata": {
    "collapsed": false,
    "ExecuteTime": {
     "end_time": "2024-12-08T03:12:08.946516Z",
     "start_time": "2024-12-08T03:12:08.931658Z"
    }
   }
  },
  {
   "cell_type": "code",
   "execution_count": 97,
   "outputs": [],
   "source": [
    "x_train, x_test, y_train, y_test = train_test_split(x, y, train_size=0.5, random_state=123)"
   ],
   "metadata": {
    "collapsed": false,
    "ExecuteTime": {
     "end_time": "2024-12-08T03:12:09.499772Z",
     "start_time": "2024-12-08T03:12:09.491984Z"
    }
   }
  },
  {
   "cell_type": "code",
   "execution_count": 98,
   "outputs": [],
   "source": [
    "mms = MinMaxScaler()\n",
    "mms_y = MinMaxScaler()"
   ],
   "metadata": {
    "collapsed": false,
    "ExecuteTime": {
     "end_time": "2024-12-08T03:12:10.119347Z",
     "start_time": "2024-12-08T03:12:10.115277Z"
    }
   }
  },
  {
   "cell_type": "code",
   "execution_count": 99,
   "outputs": [
    {
     "data": {
      "text/plain": "<Figure size 640x480 with 1 Axes>",
      "image/png": "[encoded data removed]"
     },
     "metadata": {},
     "output_type": "display_data"
    }
   ],
   "source": [
    "plt.hist(y_train)\n",
    "plt.show()"
   ],
   "metadata": {
    "collapsed": false,
    "ExecuteTime": {
     "end_time": "2024-12-08T03:12:10.897651Z",
     "start_time": "2024-12-08T03:12:10.809141Z"
    }
   }
  },
  {
   "cell_type": "code",
   "execution_count": 100,
   "outputs": [
    {
     "data": {
      "text/plain": "<Figure size 640x480 with 1 Axes>",
      "image/png": "[encoded data removed]"
     },
     "metadata": {},
     "output_type": "display_data"
    }
   ],
   "source": [
    "plt.hist(y_test)\n",
    "plt.show()"
   ],
   "metadata": {
    "collapsed": false,
    "ExecuteTime": {
     "end_time": "2024-12-08T03:12:11.809185Z",
     "start_time": "2024-12-08T03:12:11.725194Z"
    }
   }
  },
  {
   "cell_type": "code",
   "execution_count": 101,
   "outputs": [
    {
     "data": {
      "text/plain": "MinMaxScaler()",
      "text/html": "<style>#sk-container-id-8 {color: black;}#sk-container-id-8 pre{padding: 0;}#sk-container-id-8 div.sk-toggleable {background-color: white;}#sk-container-id-8 label.sk-toggleable__label {cursor: pointer;display: block;width: 100%;margin-bottom: 0;padding: 0.3em;box-sizing: border-box;text-align: center;}#sk-container-id-8 label.sk-toggleable__label-arrow:before {content: \"▸\";float: left;margin-right: 0.25em;color: #696969;}#sk-container-id-8 label.sk-toggleable__label-arrow:hover:before {color: black;}#sk-container-id-8 div.sk-estimator:hover label.sk-toggleable__label-arrow:before {color: black;}#sk-container-id-8 div.sk-toggleable__content {max-height: 0;max-width: 0;overflow: hidden;text-align: left;background-color: #f0f8ff;}#sk-container-id-8 div.sk-toggleable__content pre {margin: 0.2em;color: black;border-radius: 0.25em;background-color: #f0f8ff;}#sk-container-id-8 input.sk-toggleable__control:checked~div.sk-toggleable__content {max-height: 200px;max-width: 100%;overflow: auto;}#sk-container-id-8 input.sk-toggleable__control:checked~label.sk-toggleable__label-arrow:before {content: \"▾\";}#sk-container-id-8 div.sk-estimator input.sk-toggleable__control:checked~label.sk-toggleable__label {background-color: #d4ebff;}#sk-container-id-8 div.sk-label input.sk-toggleable__control:checked~label.sk-toggleable__label {background-color: #d4ebff;}#sk-container-id-8 input.sk-hidden--visually {border: 0;clip: rect(1px 1px 1px 1px);clip: rect(1px, 1px, 1px, 1px);height: 1px;margin: -1px;overflow: hidden;padding: 0;position: absolute;width: 1px;}#sk-container-id-8 div.sk-estimator {font-family: monospace;background-color: #f0f8ff;border: 1px dotted black;border-radius: 0.25em;box-sizing: border-box;margin-bottom: 0.5em;}#sk-container-id-8 div.sk-estimator:hover {background-color: #d4ebff;}#sk-container-id-8 div.sk-parallel-item::after {content: \"\";width: 100%;border-bottom: 1px solid gray;flex-grow: 1;}#sk-container-id-8 div.sk-label:hover label.sk-toggleable__label {background-color: #d4ebff;}#sk-container-id-8 div.sk-serial::before {content: \"\";position: absolute;border-left: 1px solid gray;box-sizing: border-box;top: 0;bottom: 0;left: 50%;z-index: 0;}#sk-container-id-8 div.sk-serial {display: flex;flex-direction: column;align-items: center;background-color: white;padding-right: 0.2em;padding-left: 0.2em;position: relative;}#sk-container-id-8 div.sk-item {position: relative;z-index: 1;}#sk-container-id-8 div.sk-parallel {display: flex;align-items: stretch;justify-content: center;background-color: white;position: relative;}#sk-container-id-8 div.sk-item::before, #sk-container-id-8 div.sk-parallel-item::before {content: \"\";position: absolute;border-left: 1px solid gray;box-sizing: border-box;top: 0;bottom: 0;left: 50%;z-index: -1;}#sk-container-id-8 div.sk-parallel-item {display: flex;flex-direction: column;z-index: 1;position: relative;background-color: white;}#sk-container-id-8 div.sk-parallel-item:first-child::after {align-self: flex-end;width: 50%;}#sk-container-id-8 div.sk-parallel-item:last-child::after {align-self: flex-start;width: 50%;}#sk-container-id-8 div.sk-parallel-item:only-child::after {width: 0;}#sk-container-id-8 div.sk-dashed-wrapped {border: 1px dashed gray;margin: 0 0.4em 0.5em 0.4em;box-sizing: border-box;padding-bottom: 0.4em;background-color: white;}#sk-container-id-8 div.sk-label label {font-family: monospace;font-weight: bold;display: inline-block;line-height: 1.2em;}#sk-container-id-8 div.sk-label-container {text-align: center;}#sk-container-id-8 div.sk-container {/* jupyter's `normalize.less` sets `[hidden] { display: none; }` but bootstrap.min.css set `[hidden] { display: none !important; }` so we also need the `!important` here to be able to override the default hidden behavior on the sphinx rendered scikit-learn.org. See: https://github.com/scikit-learn/scikit-learn/issues/21755 */display: inline-block !important;position: relative;}#sk-container-id-8 div.sk-text-repr-fallback {display: none;}</style><div id=\"sk-container-id-8\" class=\"sk-top-container\"><div class=\"sk-text-repr-fallback\"><pre>MinMaxScaler()</pre><b>In a Jupyter environment, please rerun this cell to show the HTML representation or trust the notebook. <br />On GitHub, the HTML representation is unable to render, please try loading this page with nbviewer.org.</b></div><div class=\"sk-container\" hidden><div class=\"sk-item\"><div class=\"sk-estimator sk-toggleable\"><input class=\"sk-toggleable__control sk-hidden--visually\" id=\"sk-estimator-id-8\" type=\"checkbox\" checked><label for=\"sk-estimator-id-8\" class=\"sk-toggleable__label sk-toggleable__label-arrow\">MinMaxScaler</label><div class=\"sk-toggleable__content\"><pre>MinMaxScaler()</pre></div></div></div></div></div>"
     },
     "execution_count": 101,
     "metadata": {},
     "output_type": "execute_result"
    }
   ],
   "source": [
    "mms.fit(x_train)\n",
    "mms_y.fit(y_train)"
   ],
   "metadata": {
    "collapsed": false,
    "ExecuteTime": {
     "end_time": "2024-12-08T03:12:13.849299Z",
     "start_time": "2024-12-08T03:12:13.838998Z"
    }
   }
  },
  {
   "cell_type": "code",
   "execution_count": 106,
   "outputs": [
    {
     "name": "stderr",
     "output_type": "stream",
     "text": [
      "/Users/hidenn/anaconda3/lib/python3.10/site-packages/sklearn/base.py:465: UserWarning: X does not have valid feature names, but MinMaxScaler was fitted with feature names\n",
      "  warnings.warn(\n",
      "/Users/hidenn/anaconda3/lib/python3.10/site-packages/sklearn/base.py:465: UserWarning: X does not have valid feature names, but MinMaxScaler was fitted with feature names\n",
      "  warnings.warn(\n"
     ]
    }
   ],
   "source": [
    "x_train = mms.transform(x_train)\n",
    "x_test = mms.transform(x_test)\n",
    "y_train = mms_y.transform(y_train)\n",
    "y_test = mms_y.transform(y_test)"
   ],
   "metadata": {
    "collapsed": false,
    "ExecuteTime": {
     "end_time": "2024-12-08T03:12:37.175676Z",
     "start_time": "2024-12-08T03:12:37.166814Z"
    }
   }
  },
  {
   "cell_type": "code",
   "execution_count": 107,
   "outputs": [
    {
     "data": {
      "text/plain": "array([[ 0.15611463],\n       [ 0.25791403],\n       [ 0.04681773],\n       [ 0.14345218],\n       [ 0.58613795],\n       [ 0.09763412],\n       [ 0.07714095],\n       [ 0.08863712],\n       [ 0.92485838],\n       [ 0.08630457],\n       [ 0.6107964 ],\n       [ 0.35904698],\n       [ 0.20093302],\n       [ 0.20009997],\n       [ 0.04415195],\n       [ 0.15211596],\n       [ 0.11929357],\n       [ 0.27674109],\n       [ 0.34488504],\n       [ 0.13012329],\n       [ 0.17260913],\n       [ 0.44251916],\n       [ 0.06247917],\n       [ 0.45518161],\n       [ 0.08513829],\n       [ 0.13662113],\n       [ 0.11862712],\n       [ 0.03465511],\n       [ 0.19176941],\n       [ 0.19776741],\n       [ 0.56631123],\n       [ 0.43968677],\n       [ 0.3922026 ],\n       [ 0.13662113],\n       [ 0.11262912],\n       [ 0.08397201],\n       [ 0.08897034],\n       [ 0.17410863],\n       [ 0.71642786],\n       [ 0.05814728],\n       [ 0.24858381],\n       [ 0.11012996],\n       [ 0.42752416],\n       [ 0.15361546],\n       [ 0.58863712],\n       [ 0.06997667],\n       [-0.01749417],\n       [ 0.23742086],\n       [ 0.13112296],\n       [ 0.26474508],\n       [ 0.07497501],\n       [ 0.13262246],\n       [ 0.12479174],\n       [ 0.21526158],\n       [ 0.68460513],\n       [ 0.2634122 ],\n       [ 0.18743752],\n       [ 0.0673109 ],\n       [ 0.20343219],\n       [ 0.23425525],\n       [ 0.16511163],\n       [ 0.44101966],\n       [ 0.06364545],\n       [ 0.08180606],\n       [ 0.12079307],\n       [ 0.08630457],\n       [ 0.15078307],\n       [ 0.13795402],\n       [ 0.32605798],\n       [-0.00433189],\n       [ 0.22192602],\n       [ 0.19926691],\n       [ 0.09046984],\n       [ 0.23642119],\n       [ 0.18393869],\n       [ 0.18143952],\n       [ 0.1167944 ],\n       [ 0.19060313],\n       [ 0.15928024]])"
     },
     "execution_count": 107,
     "metadata": {},
     "output_type": "execute_result"
    }
   ],
   "source": [
    "y_test"
   ],
   "metadata": {
    "collapsed": false,
    "ExecuteTime": {
     "end_time": "2024-12-08T03:12:37.894004Z",
     "start_time": "2024-12-08T03:12:37.880926Z"
    }
   }
  },
  {
   "cell_type": "code",
   "execution_count": 108,
   "outputs": [],
   "source": [
    "from sklearn.linear_model import LinearRegression"
   ],
   "metadata": {
    "collapsed": false,
    "ExecuteTime": {
     "end_time": "2024-12-08T03:12:39.035102Z",
     "start_time": "2024-12-08T03:12:39.019268Z"
    }
   }
  },
  {
   "cell_type": "code",
   "execution_count": 109,
   "outputs": [],
   "source": [
    "lr = LinearRegression()"
   ],
   "metadata": {
    "collapsed": false,
    "ExecuteTime": {
     "end_time": "2024-12-08T03:12:39.395916Z",
     "start_time": "2024-12-08T03:12:39.389003Z"
    }
   }
  },
  {
   "cell_type": "code",
   "execution_count": 110,
   "outputs": [
    {
     "data": {
      "text/plain": "LinearRegression()",
      "text/html": "<style>#sk-container-id-9 {color: black;}#sk-container-id-9 pre{padding: 0;}#sk-container-id-9 div.sk-toggleable {background-color: white;}#sk-container-id-9 label.sk-toggleable__label {cursor: pointer;display: block;width: 100%;margin-bottom: 0;padding: 0.3em;box-sizing: border-box;text-align: center;}#sk-container-id-9 label.sk-toggleable__label-arrow:before {content: \"▸\";float: left;margin-right: 0.25em;color: #696969;}#sk-container-id-9 label.sk-toggleable__label-arrow:hover:before {color: black;}#sk-container-id-9 div.sk-estimator:hover label.sk-toggleable__label-arrow:before {color: black;}#sk-container-id-9 div.sk-toggleable__content {max-height: 0;max-width: 0;overflow: hidden;text-align: left;background-color: #f0f8ff;}#sk-container-id-9 div.sk-toggleable__content pre {margin: 0.2em;color: black;border-radius: 0.25em;background-color: #f0f8ff;}#sk-container-id-9 input.sk-toggleable__control:checked~div.sk-toggleable__content {max-height: 200px;max-width: 100%;overflow: auto;}#sk-container-id-9 input.sk-toggleable__control:checked~label.sk-toggleable__label-arrow:before {content: \"▾\";}#sk-container-id-9 div.sk-estimator input.sk-toggleable__control:checked~label.sk-toggleable__label {background-color: #d4ebff;}#sk-container-id-9 div.sk-label input.sk-toggleable__control:checked~label.sk-toggleable__label {background-color: #d4ebff;}#sk-container-id-9 input.sk-hidden--visually {border: 0;clip: rect(1px 1px 1px 1px);clip: rect(1px, 1px, 1px, 1px);height: 1px;margin: -1px;overflow: hidden;padding: 0;position: absolute;width: 1px;}#sk-container-id-9 div.sk-estimator {font-family: monospace;background-color: #f0f8ff;border: 1px dotted black;border-radius: 0.25em;box-sizing: border-box;margin-bottom: 0.5em;}#sk-container-id-9 div.sk-estimator:hover {background-color: #d4ebff;}#sk-container-id-9 div.sk-parallel-item::after {content: \"\";width: 100%;border-bottom: 1px solid gray;flex-grow: 1;}#sk-container-id-9 div.sk-label:hover label.sk-toggleable__label {background-color: #d4ebff;}#sk-container-id-9 div.sk-serial::before {content: \"\";position: absolute;border-left: 1px solid gray;box-sizing: border-box;top: 0;bottom: 0;left: 50%;z-index: 0;}#sk-container-id-9 div.sk-serial {display: flex;flex-direction: column;align-items: center;background-color: white;padding-right: 0.2em;padding-left: 0.2em;position: relative;}#sk-container-id-9 div.sk-item {position: relative;z-index: 1;}#sk-container-id-9 div.sk-parallel {display: flex;align-items: stretch;justify-content: center;background-color: white;position: relative;}#sk-container-id-9 div.sk-item::before, #sk-container-id-9 div.sk-parallel-item::before {content: \"\";position: absolute;border-left: 1px solid gray;box-sizing: border-box;top: 0;bottom: 0;left: 50%;z-index: -1;}#sk-container-id-9 div.sk-parallel-item {display: flex;flex-direction: column;z-index: 1;position: relative;background-color: white;}#sk-container-id-9 div.sk-parallel-item:first-child::after {align-self: flex-end;width: 50%;}#sk-container-id-9 div.sk-parallel-item:last-child::after {align-self: flex-start;width: 50%;}#sk-container-id-9 div.sk-parallel-item:only-child::after {width: 0;}#sk-container-id-9 div.sk-dashed-wrapped {border: 1px dashed gray;margin: 0 0.4em 0.5em 0.4em;box-sizing: border-box;padding-bottom: 0.4em;background-color: white;}#sk-container-id-9 div.sk-label label {font-family: monospace;font-weight: bold;display: inline-block;line-height: 1.2em;}#sk-container-id-9 div.sk-label-container {text-align: center;}#sk-container-id-9 div.sk-container {/* jupyter's `normalize.less` sets `[hidden] { display: none; }` but bootstrap.min.css set `[hidden] { display: none !important; }` so we also need the `!important` here to be able to override the default hidden behavior on the sphinx rendered scikit-learn.org. See: https://github.com/scikit-learn/scikit-learn/issues/21755 */display: inline-block !important;position: relative;}#sk-container-id-9 div.sk-text-repr-fallback {display: none;}</style><div id=\"sk-container-id-9\" class=\"sk-top-container\"><div class=\"sk-text-repr-fallback\"><pre>LinearRegression()</pre><b>In a Jupyter environment, please rerun this cell to show the HTML representation or trust the notebook. <br />On GitHub, the HTML representation is unable to render, please try loading this page with nbviewer.org.</b></div><div class=\"sk-container\" hidden><div class=\"sk-item\"><div class=\"sk-estimator sk-toggleable\"><input class=\"sk-toggleable__control sk-hidden--visually\" id=\"sk-estimator-id-9\" type=\"checkbox\" checked><label for=\"sk-estimator-id-9\" class=\"sk-toggleable__label sk-toggleable__label-arrow\">LinearRegression</label><div class=\"sk-toggleable__content\"><pre>LinearRegression()</pre></div></div></div></div></div>"
     },
     "execution_count": 110,
     "metadata": {},
     "output_type": "execute_result"
    }
   ],
   "source": [
    "lr.fit(x_train, y_train)"
   ],
   "metadata": {
    "collapsed": false,
    "ExecuteTime": {
     "end_time": "2024-12-08T03:12:39.679702Z",
     "start_time": "2024-12-08T03:12:39.670546Z"
    }
   }
  },
  {
   "cell_type": "code",
   "execution_count": 111,
   "outputs": [
    {
     "data": {
      "text/plain": "0.9620329633063106"
     },
     "execution_count": 111,
     "metadata": {},
     "output_type": "execute_result"
    }
   ],
   "source": [
    "lr.score(x_test, y_test)"
   ],
   "metadata": {
    "collapsed": false,
    "ExecuteTime": {
     "end_time": "2024-12-08T03:12:41.711304Z",
     "start_time": "2024-12-08T03:12:41.688146Z"
    }
   }
  },
  {
   "cell_type": "code",
   "execution_count": 112,
   "outputs": [
    {
     "data": {
      "text/plain": "0.9639128431108159"
     },
     "execution_count": 112,
     "metadata": {},
     "output_type": "execute_result"
    }
   ],
   "source": [
    "lr.score(x_train, y_train)"
   ],
   "metadata": {
    "collapsed": false,
    "ExecuteTime": {
     "end_time": "2024-12-08T03:12:42.810908Z",
     "start_time": "2024-12-08T03:12:42.800396Z"
    }
   }
  },
  {
   "cell_type": "code",
   "execution_count": 113,
   "outputs": [
    {
     "data": {
      "text/plain": "array([[0.02665778],\n       [0.07714095],\n       [0.06514495],\n       [0.46434522],\n       [0.00799733],\n       [0.4131956 ],\n       [0.1107964 ],\n       [0.4056981 ],\n       [0.27724092],\n       [0.67927358],\n       [0.15694768],\n       [0.18443852],\n       [0.16194602],\n       [0.15544818],\n       [0.12212596],\n       [0.31106298],\n       [0.14895035],\n       [0.4985005 ],\n       [0.08213929],\n       [0.05481506],\n       [0.023992  ],\n       [0.07997334],\n       [0.6422859 ],\n       [0.04315228],\n       [0.87554149],\n       [0.07547484],\n       [0.38837054],\n       [0.12862379],\n       [0.20826391],\n       [0.12595801],\n       [0.06864379],\n       [0.1901033 ],\n       [0.52632456],\n       [0.44218594],\n       [0.53982006],\n       [0.22942353],\n       [0.13462179],\n       [0.11062979],\n       [0.12845718],\n       [0.24958347],\n       [0.54915028],\n       [0.20109963],\n       [0.09013662],\n       [0.12695768],\n       [0.26107964],\n       [0.33805398],\n       [0.20093302],\n       [0.16644452],\n       [0.19226924],\n       [0.02999   ],\n       [0.2919027 ],\n       [0.07580806],\n       [0.22109297],\n       [0.23758747],\n       [0.01616128],\n       [0.13062313],\n       [0.04515162],\n       [0.        ],\n       [0.62345885],\n       [0.05381539],\n       [0.35354882],\n       [0.24925025],\n       [0.11929357],\n       [0.20926358],\n       [0.00483172],\n       [0.42252582],\n       [0.19226924],\n       [0.18310563],\n       [0.5254915 ],\n       [0.51482839],\n       [0.04381873],\n       [1.        ],\n       [0.26741086],\n       [0.06464512],\n       [0.23142286],\n       [0.74358547],\n       [0.04465178],\n       [0.1751083 ],\n       [0.39420193]])"
     },
     "execution_count": 113,
     "metadata": {},
     "output_type": "execute_result"
    }
   ],
   "source": [
    "y_train"
   ],
   "metadata": {
    "collapsed": false,
    "ExecuteTime": {
     "end_time": "2024-12-08T03:12:44.099836Z",
     "start_time": "2024-12-08T03:12:44.084429Z"
    }
   }
  },
  {
   "cell_type": "code",
   "execution_count": 114,
   "outputs": [
    {
     "data": {
      "text/plain": "array([[ 0.15611463],\n       [ 0.25791403],\n       [ 0.04681773],\n       [ 0.14345218],\n       [ 0.58613795],\n       [ 0.09763412],\n       [ 0.07714095],\n       [ 0.08863712],\n       [ 0.92485838],\n       [ 0.08630457],\n       [ 0.6107964 ],\n       [ 0.35904698],\n       [ 0.20093302],\n       [ 0.20009997],\n       [ 0.04415195],\n       [ 0.15211596],\n       [ 0.11929357],\n       [ 0.27674109],\n       [ 0.34488504],\n       [ 0.13012329],\n       [ 0.17260913],\n       [ 0.44251916],\n       [ 0.06247917],\n       [ 0.45518161],\n       [ 0.08513829],\n       [ 0.13662113],\n       [ 0.11862712],\n       [ 0.03465511],\n       [ 0.19176941],\n       [ 0.19776741],\n       [ 0.56631123],\n       [ 0.43968677],\n       [ 0.3922026 ],\n       [ 0.13662113],\n       [ 0.11262912],\n       [ 0.08397201],\n       [ 0.08897034],\n       [ 0.17410863],\n       [ 0.71642786],\n       [ 0.05814728],\n       [ 0.24858381],\n       [ 0.11012996],\n       [ 0.42752416],\n       [ 0.15361546],\n       [ 0.58863712],\n       [ 0.06997667],\n       [-0.01749417],\n       [ 0.23742086],\n       [ 0.13112296],\n       [ 0.26474508],\n       [ 0.07497501],\n       [ 0.13262246],\n       [ 0.12479174],\n       [ 0.21526158],\n       [ 0.68460513],\n       [ 0.2634122 ],\n       [ 0.18743752],\n       [ 0.0673109 ],\n       [ 0.20343219],\n       [ 0.23425525],\n       [ 0.16511163],\n       [ 0.44101966],\n       [ 0.06364545],\n       [ 0.08180606],\n       [ 0.12079307],\n       [ 0.08630457],\n       [ 0.15078307],\n       [ 0.13795402],\n       [ 0.32605798],\n       [-0.00433189],\n       [ 0.22192602],\n       [ 0.19926691],\n       [ 0.09046984],\n       [ 0.23642119],\n       [ 0.18393869],\n       [ 0.18143952],\n       [ 0.1167944 ],\n       [ 0.19060313],\n       [ 0.15928024]])"
     },
     "execution_count": 114,
     "metadata": {},
     "output_type": "execute_result"
    }
   ],
   "source": [
    "y_test"
   ],
   "metadata": {
    "collapsed": false,
    "ExecuteTime": {
     "end_time": "2024-12-08T03:12:44.932053Z",
     "start_time": "2024-12-08T03:12:44.921105Z"
    }
   }
  },
  {
   "cell_type": "markdown",
   "source": [
    "So this is just really easy to predict. Let's delete outliers in another potential target."
   ],
   "metadata": {
    "collapsed": false
   }
  },
  {
   "cell_type": "code",
   "execution_count": 116,
   "outputs": [
    {
     "data": {
      "text/plain": "<Figure size 640x480 with 1 Axes>",
      "image/png": "[encoded data removed]"
     },
     "metadata": {},
     "output_type": "display_data"
    }
   ],
   "source": [
    "plt.hist(df['TOTALPVOutput'])\n",
    "plt.show()"
   ],
   "metadata": {
    "collapsed": false,
    "ExecuteTime": {
     "end_time": "2024-12-08T03:13:48.602503Z",
     "start_time": "2024-12-08T03:13:48.502534Z"
    }
   }
  },
  {
   "cell_type": "code",
   "execution_count": 117,
   "outputs": [],
   "source": [
    "df = df[df['TOTALPVOutput'] < 200]"
   ],
   "metadata": {
    "collapsed": false,
    "ExecuteTime": {
     "end_time": "2024-12-08T03:14:04.810255Z",
     "start_time": "2024-12-08T03:14:04.790054Z"
    }
   }
  },
  {
   "cell_type": "code",
   "execution_count": 118,
   "outputs": [
    {
     "data": {
      "text/plain": "<Figure size 640x480 with 1 Axes>",
      "image/png": "[encoded data removed]"
     },
     "metadata": {},
     "output_type": "display_data"
    }
   ],
   "source": [
    "plt.hist(df['TOTALPVOutput'])\n",
    "plt.show()"
   ],
   "metadata": {
    "collapsed": false,
    "ExecuteTime": {
     "end_time": "2024-12-08T03:14:10.678990Z",
     "start_time": "2024-12-08T03:14:10.607200Z"
    }
   }
  },
  {
   "cell_type": "markdown",
   "source": [
    "Check for correlations"
   ],
   "metadata": {
    "collapsed": false
   }
  },
  {
   "cell_type": "code",
   "execution_count": 119,
   "outputs": [
    {
     "data": {
      "text/plain": "                       LAT       LON       DNI       GHI       DIF   GTIopta  \\\nLAT               1.000000  0.094749 -0.786662 -0.913119 -0.557617 -0.866014   \nLON               0.094749  1.000000 -0.025041 -0.000482  0.162324 -0.022747   \nDNI              -0.786662 -0.025041  1.000000  0.953322  0.170890  0.983672   \nGHI              -0.913119 -0.000482  0.953322  1.000000  0.403309  0.986773   \nDIF              -0.557617  0.162324  0.170890  0.403309  1.000000  0.289779   \nGTIopta          -0.866014 -0.022747  0.983672  0.986773  0.289779  1.000000   \nOPTA              0.135756  0.000803  0.162086 -0.037324 -0.540465  0.097453   \nTEMP              0.078500 -0.189003 -0.298108 -0.145172  0.464331 -0.241818   \nELE              -0.539036 -0.143260  0.621897  0.540532 -0.177796  0.609316   \nTOTALPVOutput    -0.834216 -0.046520  0.985845  0.966624  0.219107  0.993069   \nGTIAnnualAverage -0.863188 -0.021404  0.981772  0.984891  0.290043  0.998465   \n\n                      OPTA      TEMP       ELE  TOTALPVOutput  \\\nLAT               0.135756  0.078500 -0.539036      -0.834216   \nLON               0.000803 -0.189003 -0.143260      -0.046520   \nDNI               0.162086 -0.298108  0.621897       0.985845   \nGHI              -0.037324 -0.145172  0.540532       0.966624   \nDIF              -0.540465  0.464331 -0.177796       0.219107   \nGTIopta           0.097453 -0.241818  0.609316       0.993069   \nOPTA              1.000000 -0.698593  0.530657       0.156672   \nTEMP             -0.698593  1.000000 -0.832381      -0.311140   \nELE               0.530657 -0.832381  1.000000       0.666281   \nTOTALPVOutput     0.156672 -0.311140  0.666281       1.000000   \nGTIAnnualAverage  0.094903 -0.233785  0.604561       0.994290   \n\n                  GTIAnnualAverage  \nLAT                      -0.863188  \nLON                      -0.021404  \nDNI                       0.981772  \nGHI                       0.984891  \nDIF                       0.290043  \nGTIopta                   0.998465  \nOPTA                      0.094903  \nTEMP                     -0.233785  \nELE                       0.604561  \nTOTALPVOutput             0.994290  \nGTIAnnualAverage          1.000000  ",
      "text/html": "<div>\n<style scoped>\n    .dataframe tbody tr th:only-of-type {\n        vertical-align: middle;\n    }\n\n    .dataframe tbody tr th {\n        vertical-align: top;\n    }\n\n    .dataframe thead th {\n        text-align: right;\n    }\n</style>\n<table border=\"1\" class=\"dataframe\">\n  <thead>\n    <tr style=\"text-align: right;\">\n      <th></th>\n      <th>LAT</th>\n      <th>LON</th>\n      <th>DNI</th>\n      <th>GHI</th>\n      <th>DIF</th>\n      <th>GTIopta</th>\n      <th>OPTA</th>\n      <th>TEMP</th>\n      <th>ELE</th>\n      <th>TOTALPVOutput</th>\n      <th>GTIAnnualAverage</th>\n    </tr>\n  </thead>\n  <tbody>\n    <tr>\n      <th>LAT</th>\n      <td>1.000000</td>\n      <td>0.094749</td>\n      <td>-0.786662</td>\n      <td>-0.913119</td>\n      <td>-0.557617</td>\n      <td>-0.866014</td>\n      <td>0.135756</td>\n      <td>0.078500</td>\n      <td>-0.539036</td>\n      <td>-0.834216</td>\n      <td>-0.863188</td>\n    </tr>\n    <tr>\n      <th>LON</th>\n      <td>0.094749</td>\n      <td>1.000000</td>\n      <td>-0.025041</td>\n      <td>-0.000482</td>\n      <td>0.162324</td>\n      <td>-0.022747</td>\n      <td>0.000803</td>\n      <td>-0.189003</td>\n      <td>-0.143260</td>\n      <td>-0.046520</td>\n      <td>-0.021404</td>\n    </tr>\n    <tr>\n      <th>DNI</th>\n      <td>-0.786662</td>\n      <td>-0.025041</td>\n      <td>1.000000</td>\n      <td>0.953322</td>\n      <td>0.170890</td>\n      <td>0.983672</td>\n      <td>0.162086</td>\n      <td>-0.298108</td>\n      <td>0.621897</td>\n      <td>0.985845</td>\n      <td>0.981772</td>\n    </tr>\n    <tr>\n      <th>GHI</th>\n      <td>-0.913119</td>\n      <td>-0.000482</td>\n      <td>0.953322</td>\n      <td>1.000000</td>\n      <td>0.403309</td>\n      <td>0.986773</td>\n      <td>-0.037324</td>\n      <td>-0.145172</td>\n      <td>0.540532</td>\n      <td>0.966624</td>\n      <td>0.984891</td>\n    </tr>\n    <tr>\n      <th>DIF</th>\n      <td>-0.557617</td>\n      <td>0.162324</td>\n      <td>0.170890</td>\n      <td>0.403309</td>\n      <td>1.000000</td>\n      <td>0.289779</td>\n      <td>-0.540465</td>\n      <td>0.464331</td>\n      <td>-0.177796</td>\n      <td>0.219107</td>\n      <td>0.290043</td>\n    </tr>\n    <tr>\n      <th>GTIopta</th>\n      <td>-0.866014</td>\n      <td>-0.022747</td>\n      <td>0.983672</td>\n      <td>0.986773</td>\n      <td>0.289779</td>\n      <td>1.000000</td>\n      <td>0.097453</td>\n      <td>-0.241818</td>\n      <td>0.609316</td>\n      <td>0.993069</td>\n      <td>0.998465</td>\n    </tr>\n    <tr>\n      <th>OPTA</th>\n      <td>0.135756</td>\n      <td>0.000803</td>\n      <td>0.162086</td>\n      <td>-0.037324</td>\n      <td>-0.540465</td>\n      <td>0.097453</td>\n      <td>1.000000</td>\n      <td>-0.698593</td>\n      <td>0.530657</td>\n      <td>0.156672</td>\n      <td>0.094903</td>\n    </tr>\n    <tr>\n      <th>TEMP</th>\n      <td>0.078500</td>\n      <td>-0.189003</td>\n      <td>-0.298108</td>\n      <td>-0.145172</td>\n      <td>0.464331</td>\n      <td>-0.241818</td>\n      <td>-0.698593</td>\n      <td>1.000000</td>\n      <td>-0.832381</td>\n      <td>-0.311140</td>\n      <td>-0.233785</td>\n    </tr>\n    <tr>\n      <th>ELE</th>\n      <td>-0.539036</td>\n      <td>-0.143260</td>\n      <td>0.621897</td>\n      <td>0.540532</td>\n      <td>-0.177796</td>\n      <td>0.609316</td>\n      <td>0.530657</td>\n      <td>-0.832381</td>\n      <td>1.000000</td>\n      <td>0.666281</td>\n      <td>0.604561</td>\n    </tr>\n    <tr>\n      <th>TOTALPVOutput</th>\n      <td>-0.834216</td>\n      <td>-0.046520</td>\n      <td>0.985845</td>\n      <td>0.966624</td>\n      <td>0.219107</td>\n      <td>0.993069</td>\n      <td>0.156672</td>\n      <td>-0.311140</td>\n      <td>0.666281</td>\n      <td>1.000000</td>\n      <td>0.994290</td>\n    </tr>\n    <tr>\n      <th>GTIAnnualAverage</th>\n      <td>-0.863188</td>\n      <td>-0.021404</td>\n      <td>0.981772</td>\n      <td>0.984891</td>\n      <td>0.290043</td>\n      <td>0.998465</td>\n      <td>0.094903</td>\n      <td>-0.233785</td>\n      <td>0.604561</td>\n      <td>0.994290</td>\n      <td>1.000000</td>\n    </tr>\n  </tbody>\n</table>\n</div>"
     },
     "execution_count": 119,
     "metadata": {},
     "output_type": "execute_result"
    }
   ],
   "source": [
    "df.corr()"
   ],
   "metadata": {
    "collapsed": false,
    "ExecuteTime": {
     "end_time": "2024-12-08T03:14:30.988020Z",
     "start_time": "2024-12-08T03:14:30.974887Z"
    }
   }
  },
  {
   "cell_type": "markdown",
   "source": [
    "Same linear correlation. Let's make also normal linear regression."
   ],
   "metadata": {
    "collapsed": false
   }
  },
  {
   "cell_type": "code",
   "execution_count": 120,
   "outputs": [],
   "source": [
    "# Well we can do GTIAnnualAverage with one feature\n",
    "from sklearn.model_selection import train_test_split\n",
    "from sklearn.preprocessing import MinMaxScaler\n",
    "\n",
    "y = df[['TOTALPVOutput']]\n",
    "x = df[['DNI']]\n",
    "x_train, x_test, y_train, y_test = train_test_split(x, y, train_size=0.5, random_state=123)\n",
    "mms = MinMaxScaler()\n",
    "mms_y = MinMaxScaler()"
   ],
   "metadata": {
    "collapsed": false,
    "ExecuteTime": {
     "end_time": "2024-12-08T03:17:25.018615Z",
     "start_time": "2024-12-08T03:17:24.976699Z"
    }
   }
  },
  {
   "cell_type": "code",
   "execution_count": 121,
   "outputs": [
    {
     "data": {
      "text/plain": "MinMaxScaler()",
      "text/html": "<style>#sk-container-id-10 {color: black;}#sk-container-id-10 pre{padding: 0;}#sk-container-id-10 div.sk-toggleable {background-color: white;}#sk-container-id-10 label.sk-toggleable__label {cursor: pointer;display: block;width: 100%;margin-bottom: 0;padding: 0.3em;box-sizing: border-box;text-align: center;}#sk-container-id-10 label.sk-toggleable__label-arrow:before {content: \"▸\";float: left;margin-right: 0.25em;color: #696969;}#sk-container-id-10 label.sk-toggleable__label-arrow:hover:before {color: black;}#sk-container-id-10 div.sk-estimator:hover label.sk-toggleable__label-arrow:before {color: black;}#sk-container-id-10 div.sk-toggleable__content {max-height: 0;max-width: 0;overflow: hidden;text-align: left;background-color: #f0f8ff;}#sk-container-id-10 div.sk-toggleable__content pre {margin: 0.2em;color: black;border-radius: 0.25em;background-color: #f0f8ff;}#sk-container-id-10 input.sk-toggleable__control:checked~div.sk-toggleable__content {max-height: 200px;max-width: 100%;overflow: auto;}#sk-container-id-10 input.sk-toggleable__control:checked~label.sk-toggleable__label-arrow:before {content: \"▾\";}#sk-container-id-10 div.sk-estimator input.sk-toggleable__control:checked~label.sk-toggleable__label {background-color: #d4ebff;}#sk-container-id-10 div.sk-label input.sk-toggleable__control:checked~label.sk-toggleable__label {background-color: #d4ebff;}#sk-container-id-10 input.sk-hidden--visually {border: 0;clip: rect(1px 1px 1px 1px);clip: rect(1px, 1px, 1px, 1px);height: 1px;margin: -1px;overflow: hidden;padding: 0;position: absolute;width: 1px;}#sk-container-id-10 div.sk-estimator {font-family: monospace;background-color: #f0f8ff;border: 1px dotted black;border-radius: 0.25em;box-sizing: border-box;margin-bottom: 0.5em;}#sk-container-id-10 div.sk-estimator:hover {background-color: #d4ebff;}#sk-container-id-10 div.sk-parallel-item::after {content: \"\";width: 100%;border-bottom: 1px solid gray;flex-grow: 1;}#sk-container-id-10 div.sk-label:hover label.sk-toggleable__label {background-color: #d4ebff;}#sk-container-id-10 div.sk-serial::before {content: \"\";position: absolute;border-left: 1px solid gray;box-sizing: border-box;top: 0;bottom: 0;left: 50%;z-index: 0;}#sk-container-id-10 div.sk-serial {display: flex;flex-direction: column;align-items: center;background-color: white;padding-right: 0.2em;padding-left: 0.2em;position: relative;}#sk-container-id-10 div.sk-item {position: relative;z-index: 1;}#sk-container-id-10 div.sk-parallel {display: flex;align-items: stretch;justify-content: center;background-color: white;position: relative;}#sk-container-id-10 div.sk-item::before, #sk-container-id-10 div.sk-parallel-item::before {content: \"\";position: absolute;border-left: 1px solid gray;box-sizing: border-box;top: 0;bottom: 0;left: 50%;z-index: -1;}#sk-container-id-10 div.sk-parallel-item {display: flex;flex-direction: column;z-index: 1;position: relative;background-color: white;}#sk-container-id-10 div.sk-parallel-item:first-child::after {align-self: flex-end;width: 50%;}#sk-container-id-10 div.sk-parallel-item:last-child::after {align-self: flex-start;width: 50%;}#sk-container-id-10 div.sk-parallel-item:only-child::after {width: 0;}#sk-container-id-10 div.sk-dashed-wrapped {border: 1px dashed gray;margin: 0 0.4em 0.5em 0.4em;box-sizing: border-box;padding-bottom: 0.4em;background-color: white;}#sk-container-id-10 div.sk-label label {font-family: monospace;font-weight: bold;display: inline-block;line-height: 1.2em;}#sk-container-id-10 div.sk-label-container {text-align: center;}#sk-container-id-10 div.sk-container {/* jupyter's `normalize.less` sets `[hidden] { display: none; }` but bootstrap.min.css set `[hidden] { display: none !important; }` so we also need the `!important` here to be able to override the default hidden behavior on the sphinx rendered scikit-learn.org. See: https://github.com/scikit-learn/scikit-learn/issues/21755 */display: inline-block !important;position: relative;}#sk-container-id-10 div.sk-text-repr-fallback {display: none;}</style><div id=\"sk-container-id-10\" class=\"sk-top-container\"><div class=\"sk-text-repr-fallback\"><pre>MinMaxScaler()</pre><b>In a Jupyter environment, please rerun this cell to show the HTML representation or trust the notebook. <br />On GitHub, the HTML representation is unable to render, please try loading this page with nbviewer.org.</b></div><div class=\"sk-container\" hidden><div class=\"sk-item\"><div class=\"sk-estimator sk-toggleable\"><input class=\"sk-toggleable__control sk-hidden--visually\" id=\"sk-estimator-id-10\" type=\"checkbox\" checked><label for=\"sk-estimator-id-10\" class=\"sk-toggleable__label sk-toggleable__label-arrow\">MinMaxScaler</label><div class=\"sk-toggleable__content\"><pre>MinMaxScaler()</pre></div></div></div></div></div>"
     },
     "execution_count": 121,
     "metadata": {},
     "output_type": "execute_result"
    }
   ],
   "source": [
    "mms.fit(x_train)\n",
    "mms_y.fit(y_train)"
   ],
   "metadata": {
    "collapsed": false,
    "ExecuteTime": {
     "end_time": "2024-12-08T03:17:47.552492Z",
     "start_time": "2024-12-08T03:17:47.531208Z"
    }
   }
  },
  {
   "cell_type": "code",
   "execution_count": 122,
   "outputs": [],
   "source": [
    "x_train = mms.transform(x_train)\n",
    "x_test = mms.transform(x_test)\n",
    "y_train = mms_y.transform(y_train)\n",
    "y_test = mms_y.transform(y_test)"
   ],
   "metadata": {
    "collapsed": false,
    "ExecuteTime": {
     "end_time": "2024-12-08T03:17:57.526767Z",
     "start_time": "2024-12-08T03:17:57.487582Z"
    }
   }
  },
  {
   "cell_type": "code",
   "execution_count": 123,
   "outputs": [
    {
     "data": {
      "text/plain": "LinearRegression()",
      "text/html": "<style>#sk-container-id-11 {color: black;}#sk-container-id-11 pre{padding: 0;}#sk-container-id-11 div.sk-toggleable {background-color: white;}#sk-container-id-11 label.sk-toggleable__label {cursor: pointer;display: block;width: 100%;margin-bottom: 0;padding: 0.3em;box-sizing: border-box;text-align: center;}#sk-container-id-11 label.sk-toggleable__label-arrow:before {content: \"▸\";float: left;margin-right: 0.25em;color: #696969;}#sk-container-id-11 label.sk-toggleable__label-arrow:hover:before {color: black;}#sk-container-id-11 div.sk-estimator:hover label.sk-toggleable__label-arrow:before {color: black;}#sk-container-id-11 div.sk-toggleable__content {max-height: 0;max-width: 0;overflow: hidden;text-align: left;background-color: #f0f8ff;}#sk-container-id-11 div.sk-toggleable__content pre {margin: 0.2em;color: black;border-radius: 0.25em;background-color: #f0f8ff;}#sk-container-id-11 input.sk-toggleable__control:checked~div.sk-toggleable__content {max-height: 200px;max-width: 100%;overflow: auto;}#sk-container-id-11 input.sk-toggleable__control:checked~label.sk-toggleable__label-arrow:before {content: \"▾\";}#sk-container-id-11 div.sk-estimator input.sk-toggleable__control:checked~label.sk-toggleable__label {background-color: #d4ebff;}#sk-container-id-11 div.sk-label input.sk-toggleable__control:checked~label.sk-toggleable__label {background-color: #d4ebff;}#sk-container-id-11 input.sk-hidden--visually {border: 0;clip: rect(1px 1px 1px 1px);clip: rect(1px, 1px, 1px, 1px);height: 1px;margin: -1px;overflow: hidden;padding: 0;position: absolute;width: 1px;}#sk-container-id-11 div.sk-estimator {font-family: monospace;background-color: #f0f8ff;border: 1px dotted black;border-radius: 0.25em;box-sizing: border-box;margin-bottom: 0.5em;}#sk-container-id-11 div.sk-estimator:hover {background-color: #d4ebff;}#sk-container-id-11 div.sk-parallel-item::after {content: \"\";width: 100%;border-bottom: 1px solid gray;flex-grow: 1;}#sk-container-id-11 div.sk-label:hover label.sk-toggleable__label {background-color: #d4ebff;}#sk-container-id-11 div.sk-serial::before {content: \"\";position: absolute;border-left: 1px solid gray;box-sizing: border-box;top: 0;bottom: 0;left: 50%;z-index: 0;}#sk-container-id-11 div.sk-serial {display: flex;flex-direction: column;align-items: center;background-color: white;padding-right: 0.2em;padding-left: 0.2em;position: relative;}#sk-container-id-11 div.sk-item {position: relative;z-index: 1;}#sk-container-id-11 div.sk-parallel {display: flex;align-items: stretch;justify-content: center;background-color: white;position: relative;}#sk-container-id-11 div.sk-item::before, #sk-container-id-11 div.sk-parallel-item::before {content: \"\";position: absolute;border-left: 1px solid gray;box-sizing: border-box;top: 0;bottom: 0;left: 50%;z-index: -1;}#sk-container-id-11 div.sk-parallel-item {display: flex;flex-direction: column;z-index: 1;position: relative;background-color: white;}#sk-container-id-11 div.sk-parallel-item:first-child::after {align-self: flex-end;width: 50%;}#sk-container-id-11 div.sk-parallel-item:last-child::after {align-self: flex-start;width: 50%;}#sk-container-id-11 div.sk-parallel-item:only-child::after {width: 0;}#sk-container-id-11 div.sk-dashed-wrapped {border: 1px dashed gray;margin: 0 0.4em 0.5em 0.4em;box-sizing: border-box;padding-bottom: 0.4em;background-color: white;}#sk-container-id-11 div.sk-label label {font-family: monospace;font-weight: bold;display: inline-block;line-height: 1.2em;}#sk-container-id-11 div.sk-label-container {text-align: center;}#sk-container-id-11 div.sk-container {/* jupyter's `normalize.less` sets `[hidden] { display: none; }` but bootstrap.min.css set `[hidden] { display: none !important; }` so we also need the `!important` here to be able to override the default hidden behavior on the sphinx rendered scikit-learn.org. See: https://github.com/scikit-learn/scikit-learn/issues/21755 */display: inline-block !important;position: relative;}#sk-container-id-11 div.sk-text-repr-fallback {display: none;}</style><div id=\"sk-container-id-11\" class=\"sk-top-container\"><div class=\"sk-text-repr-fallback\"><pre>LinearRegression()</pre><b>In a Jupyter environment, please rerun this cell to show the HTML representation or trust the notebook. <br />On GitHub, the HTML representation is unable to render, please try loading this page with nbviewer.org.</b></div><div class=\"sk-container\" hidden><div class=\"sk-item\"><div class=\"sk-estimator sk-toggleable\"><input class=\"sk-toggleable__control sk-hidden--visually\" id=\"sk-estimator-id-11\" type=\"checkbox\" checked><label for=\"sk-estimator-id-11\" class=\"sk-toggleable__label sk-toggleable__label-arrow\">LinearRegression</label><div class=\"sk-toggleable__content\"><pre>LinearRegression()</pre></div></div></div></div></div>"
     },
     "execution_count": 123,
     "metadata": {},
     "output_type": "execute_result"
    }
   ],
   "source": [
    "lr.fit(x_train, y_train)"
   ],
   "metadata": {
    "collapsed": false,
    "ExecuteTime": {
     "end_time": "2024-12-08T03:18:18.935617Z",
     "start_time": "2024-12-08T03:18:18.924195Z"
    }
   }
  },
  {
   "cell_type": "code",
   "execution_count": 124,
   "outputs": [
    {
     "data": {
      "text/plain": "0.9723839760106952"
     },
     "execution_count": 124,
     "metadata": {},
     "output_type": "execute_result"
    }
   ],
   "source": [
    "lr.score(x_test, y_test)"
   ],
   "metadata": {
    "collapsed": false,
    "ExecuteTime": {
     "end_time": "2024-12-08T03:18:19.252067Z",
     "start_time": "2024-12-08T03:18:19.241681Z"
    }
   }
  },
  {
   "cell_type": "code",
   "execution_count": 125,
   "outputs": [
    {
     "data": {
      "text/plain": "0.9701264550753982"
     },
     "execution_count": 125,
     "metadata": {},
     "output_type": "execute_result"
    }
   ],
   "source": [
    "lr.score(x_train, y_train)"
   ],
   "metadata": {
    "collapsed": false,
    "ExecuteTime": {
     "end_time": "2024-12-08T03:18:20.102402Z",
     "start_time": "2024-12-08T03:18:20.074945Z"
    }
   }
  },
  {
   "cell_type": "markdown",
   "source": [
    "Even better results."
   ],
   "metadata": {
    "collapsed": false
   }
  }
 ],
 "metadata": {
  "kernelspec": {
   "display_name": "Python 3",
   "language": "python",
   "name": "python3"
  },
  "language_info": {
   "codemirror_mode": {
    "name": "ipython",
    "version": 2
   },
   "file_extension": ".py",
   "mimetype": "text/x-python",
   "name": "python",
   "nbconvert_exporter": "python",
   "pygments_lexer": "ipython2",
   "version": "2.7.6"
  }
 },
 "nbformat": 4,
 "nbformat_minor": 0
}
